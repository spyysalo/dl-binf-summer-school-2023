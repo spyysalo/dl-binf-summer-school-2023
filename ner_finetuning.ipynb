{
  "nbformat": 4,
  "nbformat_minor": 0,
  "metadata": {
    "colab": {
      "provenance": [],
      "gpuType": "T4",
      "authorship_tag": "ABX9TyNWlPZGj1FQfk1NIaleV87N",
      "include_colab_link": true
    },
    "kernelspec": {
      "name": "python3",
      "display_name": "Python 3"
    },
    "language_info": {
      "name": "python"
    },
    "accelerator": "GPU",
    "widgets": {
      "application/vnd.jupyter.widget-state+json": {
        "95177a2a0c7d4280a727414dd49047aa": {
          "model_module": "@jupyter-widgets/controls",
          "model_name": "HBoxModel",
          "model_module_version": "1.5.0",
          "state": {
            "_dom_classes": [],
            "_model_module": "@jupyter-widgets/controls",
            "_model_module_version": "1.5.0",
            "_model_name": "HBoxModel",
            "_view_count": null,
            "_view_module": "@jupyter-widgets/controls",
            "_view_module_version": "1.5.0",
            "_view_name": "HBoxView",
            "box_style": "",
            "children": [
              "IPY_MODEL_3d733f0ccd4e484d8bc19734eca887d6",
              "IPY_MODEL_1ce263f55b304608bcd099838cc0ed90",
              "IPY_MODEL_ded03fe0596a487cae1a025a4e1df785"
            ],
            "layout": "IPY_MODEL_dcf172731af64cba8f016da267e14b5f"
          }
        },
        "3d733f0ccd4e484d8bc19734eca887d6": {
          "model_module": "@jupyter-widgets/controls",
          "model_name": "HTMLModel",
          "model_module_version": "1.5.0",
          "state": {
            "_dom_classes": [],
            "_model_module": "@jupyter-widgets/controls",
            "_model_module_version": "1.5.0",
            "_model_name": "HTMLModel",
            "_view_count": null,
            "_view_module": "@jupyter-widgets/controls",
            "_view_module_version": "1.5.0",
            "_view_name": "HTMLView",
            "description": "",
            "description_tooltip": null,
            "layout": "IPY_MODEL_9768dc68c0c94eb09cc396c6ca45375e",
            "placeholder": "​",
            "style": "IPY_MODEL_a7aeca405f074b57a0bcdbb259bb71b2",
            "value": "Downloading (…)okenizer_config.json: 100%"
          }
        },
        "1ce263f55b304608bcd099838cc0ed90": {
          "model_module": "@jupyter-widgets/controls",
          "model_name": "FloatProgressModel",
          "model_module_version": "1.5.0",
          "state": {
            "_dom_classes": [],
            "_model_module": "@jupyter-widgets/controls",
            "_model_module_version": "1.5.0",
            "_model_name": "FloatProgressModel",
            "_view_count": null,
            "_view_module": "@jupyter-widgets/controls",
            "_view_module_version": "1.5.0",
            "_view_name": "ProgressView",
            "bar_style": "success",
            "description": "",
            "description_tooltip": null,
            "layout": "IPY_MODEL_febd45fb0f52448fb3e89a5543edbe47",
            "max": 29,
            "min": 0,
            "orientation": "horizontal",
            "style": "IPY_MODEL_7fd0612badfc49acb4ad79974c8d3a89",
            "value": 29
          }
        },
        "ded03fe0596a487cae1a025a4e1df785": {
          "model_module": "@jupyter-widgets/controls",
          "model_name": "HTMLModel",
          "model_module_version": "1.5.0",
          "state": {
            "_dom_classes": [],
            "_model_module": "@jupyter-widgets/controls",
            "_model_module_version": "1.5.0",
            "_model_name": "HTMLModel",
            "_view_count": null,
            "_view_module": "@jupyter-widgets/controls",
            "_view_module_version": "1.5.0",
            "_view_name": "HTMLView",
            "description": "",
            "description_tooltip": null,
            "layout": "IPY_MODEL_c37236425f8e4981bebffef98e16ae1b",
            "placeholder": "​",
            "style": "IPY_MODEL_99848362b09146cdad7f2be525741a4e",
            "value": " 29.0/29.0 [00:00&lt;00:00, 608B/s]"
          }
        },
        "dcf172731af64cba8f016da267e14b5f": {
          "model_module": "@jupyter-widgets/base",
          "model_name": "LayoutModel",
          "model_module_version": "1.2.0",
          "state": {
            "_model_module": "@jupyter-widgets/base",
            "_model_module_version": "1.2.0",
            "_model_name": "LayoutModel",
            "_view_count": null,
            "_view_module": "@jupyter-widgets/base",
            "_view_module_version": "1.2.0",
            "_view_name": "LayoutView",
            "align_content": null,
            "align_items": null,
            "align_self": null,
            "border": null,
            "bottom": null,
            "display": null,
            "flex": null,
            "flex_flow": null,
            "grid_area": null,
            "grid_auto_columns": null,
            "grid_auto_flow": null,
            "grid_auto_rows": null,
            "grid_column": null,
            "grid_gap": null,
            "grid_row": null,
            "grid_template_areas": null,
            "grid_template_columns": null,
            "grid_template_rows": null,
            "height": null,
            "justify_content": null,
            "justify_items": null,
            "left": null,
            "margin": null,
            "max_height": null,
            "max_width": null,
            "min_height": null,
            "min_width": null,
            "object_fit": null,
            "object_position": null,
            "order": null,
            "overflow": null,
            "overflow_x": null,
            "overflow_y": null,
            "padding": null,
            "right": null,
            "top": null,
            "visibility": null,
            "width": null
          }
        },
        "9768dc68c0c94eb09cc396c6ca45375e": {
          "model_module": "@jupyter-widgets/base",
          "model_name": "LayoutModel",
          "model_module_version": "1.2.0",
          "state": {
            "_model_module": "@jupyter-widgets/base",
            "_model_module_version": "1.2.0",
            "_model_name": "LayoutModel",
            "_view_count": null,
            "_view_module": "@jupyter-widgets/base",
            "_view_module_version": "1.2.0",
            "_view_name": "LayoutView",
            "align_content": null,
            "align_items": null,
            "align_self": null,
            "border": null,
            "bottom": null,
            "display": null,
            "flex": null,
            "flex_flow": null,
            "grid_area": null,
            "grid_auto_columns": null,
            "grid_auto_flow": null,
            "grid_auto_rows": null,
            "grid_column": null,
            "grid_gap": null,
            "grid_row": null,
            "grid_template_areas": null,
            "grid_template_columns": null,
            "grid_template_rows": null,
            "height": null,
            "justify_content": null,
            "justify_items": null,
            "left": null,
            "margin": null,
            "max_height": null,
            "max_width": null,
            "min_height": null,
            "min_width": null,
            "object_fit": null,
            "object_position": null,
            "order": null,
            "overflow": null,
            "overflow_x": null,
            "overflow_y": null,
            "padding": null,
            "right": null,
            "top": null,
            "visibility": null,
            "width": null
          }
        },
        "a7aeca405f074b57a0bcdbb259bb71b2": {
          "model_module": "@jupyter-widgets/controls",
          "model_name": "DescriptionStyleModel",
          "model_module_version": "1.5.0",
          "state": {
            "_model_module": "@jupyter-widgets/controls",
            "_model_module_version": "1.5.0",
            "_model_name": "DescriptionStyleModel",
            "_view_count": null,
            "_view_module": "@jupyter-widgets/base",
            "_view_module_version": "1.2.0",
            "_view_name": "StyleView",
            "description_width": ""
          }
        },
        "febd45fb0f52448fb3e89a5543edbe47": {
          "model_module": "@jupyter-widgets/base",
          "model_name": "LayoutModel",
          "model_module_version": "1.2.0",
          "state": {
            "_model_module": "@jupyter-widgets/base",
            "_model_module_version": "1.2.0",
            "_model_name": "LayoutModel",
            "_view_count": null,
            "_view_module": "@jupyter-widgets/base",
            "_view_module_version": "1.2.0",
            "_view_name": "LayoutView",
            "align_content": null,
            "align_items": null,
            "align_self": null,
            "border": null,
            "bottom": null,
            "display": null,
            "flex": null,
            "flex_flow": null,
            "grid_area": null,
            "grid_auto_columns": null,
            "grid_auto_flow": null,
            "grid_auto_rows": null,
            "grid_column": null,
            "grid_gap": null,
            "grid_row": null,
            "grid_template_areas": null,
            "grid_template_columns": null,
            "grid_template_rows": null,
            "height": null,
            "justify_content": null,
            "justify_items": null,
            "left": null,
            "margin": null,
            "max_height": null,
            "max_width": null,
            "min_height": null,
            "min_width": null,
            "object_fit": null,
            "object_position": null,
            "order": null,
            "overflow": null,
            "overflow_x": null,
            "overflow_y": null,
            "padding": null,
            "right": null,
            "top": null,
            "visibility": null,
            "width": null
          }
        },
        "7fd0612badfc49acb4ad79974c8d3a89": {
          "model_module": "@jupyter-widgets/controls",
          "model_name": "ProgressStyleModel",
          "model_module_version": "1.5.0",
          "state": {
            "_model_module": "@jupyter-widgets/controls",
            "_model_module_version": "1.5.0",
            "_model_name": "ProgressStyleModel",
            "_view_count": null,
            "_view_module": "@jupyter-widgets/base",
            "_view_module_version": "1.2.0",
            "_view_name": "StyleView",
            "bar_color": null,
            "description_width": ""
          }
        },
        "c37236425f8e4981bebffef98e16ae1b": {
          "model_module": "@jupyter-widgets/base",
          "model_name": "LayoutModel",
          "model_module_version": "1.2.0",
          "state": {
            "_model_module": "@jupyter-widgets/base",
            "_model_module_version": "1.2.0",
            "_model_name": "LayoutModel",
            "_view_count": null,
            "_view_module": "@jupyter-widgets/base",
            "_view_module_version": "1.2.0",
            "_view_name": "LayoutView",
            "align_content": null,
            "align_items": null,
            "align_self": null,
            "border": null,
            "bottom": null,
            "display": null,
            "flex": null,
            "flex_flow": null,
            "grid_area": null,
            "grid_auto_columns": null,
            "grid_auto_flow": null,
            "grid_auto_rows": null,
            "grid_column": null,
            "grid_gap": null,
            "grid_row": null,
            "grid_template_areas": null,
            "grid_template_columns": null,
            "grid_template_rows": null,
            "height": null,
            "justify_content": null,
            "justify_items": null,
            "left": null,
            "margin": null,
            "max_height": null,
            "max_width": null,
            "min_height": null,
            "min_width": null,
            "object_fit": null,
            "object_position": null,
            "order": null,
            "overflow": null,
            "overflow_x": null,
            "overflow_y": null,
            "padding": null,
            "right": null,
            "top": null,
            "visibility": null,
            "width": null
          }
        },
        "99848362b09146cdad7f2be525741a4e": {
          "model_module": "@jupyter-widgets/controls",
          "model_name": "DescriptionStyleModel",
          "model_module_version": "1.5.0",
          "state": {
            "_model_module": "@jupyter-widgets/controls",
            "_model_module_version": "1.5.0",
            "_model_name": "DescriptionStyleModel",
            "_view_count": null,
            "_view_module": "@jupyter-widgets/base",
            "_view_module_version": "1.2.0",
            "_view_name": "StyleView",
            "description_width": ""
          }
        },
        "cdc9ce9885b64dafba534003344a185b": {
          "model_module": "@jupyter-widgets/controls",
          "model_name": "HBoxModel",
          "model_module_version": "1.5.0",
          "state": {
            "_dom_classes": [],
            "_model_module": "@jupyter-widgets/controls",
            "_model_module_version": "1.5.0",
            "_model_name": "HBoxModel",
            "_view_count": null,
            "_view_module": "@jupyter-widgets/controls",
            "_view_module_version": "1.5.0",
            "_view_name": "HBoxView",
            "box_style": "",
            "children": [
              "IPY_MODEL_16112cf678914567a191e1517f7d13f9",
              "IPY_MODEL_aba6b11ad8744b199c784b415f79ae6b",
              "IPY_MODEL_349beebfe1544c6b8f24ff1e4ca7fa6a"
            ],
            "layout": "IPY_MODEL_029800ac28634d1ab7b48dfd442b2f7a"
          }
        },
        "16112cf678914567a191e1517f7d13f9": {
          "model_module": "@jupyter-widgets/controls",
          "model_name": "HTMLModel",
          "model_module_version": "1.5.0",
          "state": {
            "_dom_classes": [],
            "_model_module": "@jupyter-widgets/controls",
            "_model_module_version": "1.5.0",
            "_model_name": "HTMLModel",
            "_view_count": null,
            "_view_module": "@jupyter-widgets/controls",
            "_view_module_version": "1.5.0",
            "_view_name": "HTMLView",
            "description": "",
            "description_tooltip": null,
            "layout": "IPY_MODEL_cde157bcfca54c7397ebfc91554d8b0d",
            "placeholder": "​",
            "style": "IPY_MODEL_d0fb820fcadc4eb1a5694019d579e3ab",
            "value": "Downloading (…)lve/main/config.json: 100%"
          }
        },
        "aba6b11ad8744b199c784b415f79ae6b": {
          "model_module": "@jupyter-widgets/controls",
          "model_name": "FloatProgressModel",
          "model_module_version": "1.5.0",
          "state": {
            "_dom_classes": [],
            "_model_module": "@jupyter-widgets/controls",
            "_model_module_version": "1.5.0",
            "_model_name": "FloatProgressModel",
            "_view_count": null,
            "_view_module": "@jupyter-widgets/controls",
            "_view_module_version": "1.5.0",
            "_view_name": "ProgressView",
            "bar_style": "success",
            "description": "",
            "description_tooltip": null,
            "layout": "IPY_MODEL_020c1264bf0f45d789f06a80f853b224",
            "max": 570,
            "min": 0,
            "orientation": "horizontal",
            "style": "IPY_MODEL_ae2283a623f54b1dbc1e2bab03b585ea",
            "value": 570
          }
        },
        "349beebfe1544c6b8f24ff1e4ca7fa6a": {
          "model_module": "@jupyter-widgets/controls",
          "model_name": "HTMLModel",
          "model_module_version": "1.5.0",
          "state": {
            "_dom_classes": [],
            "_model_module": "@jupyter-widgets/controls",
            "_model_module_version": "1.5.0",
            "_model_name": "HTMLModel",
            "_view_count": null,
            "_view_module": "@jupyter-widgets/controls",
            "_view_module_version": "1.5.0",
            "_view_name": "HTMLView",
            "description": "",
            "description_tooltip": null,
            "layout": "IPY_MODEL_119aed3039d74331a1a565d6bcba4c46",
            "placeholder": "​",
            "style": "IPY_MODEL_a4411eff1bf349fb897d7bba6cde9ff2",
            "value": " 570/570 [00:00&lt;00:00, 20.3kB/s]"
          }
        },
        "029800ac28634d1ab7b48dfd442b2f7a": {
          "model_module": "@jupyter-widgets/base",
          "model_name": "LayoutModel",
          "model_module_version": "1.2.0",
          "state": {
            "_model_module": "@jupyter-widgets/base",
            "_model_module_version": "1.2.0",
            "_model_name": "LayoutModel",
            "_view_count": null,
            "_view_module": "@jupyter-widgets/base",
            "_view_module_version": "1.2.0",
            "_view_name": "LayoutView",
            "align_content": null,
            "align_items": null,
            "align_self": null,
            "border": null,
            "bottom": null,
            "display": null,
            "flex": null,
            "flex_flow": null,
            "grid_area": null,
            "grid_auto_columns": null,
            "grid_auto_flow": null,
            "grid_auto_rows": null,
            "grid_column": null,
            "grid_gap": null,
            "grid_row": null,
            "grid_template_areas": null,
            "grid_template_columns": null,
            "grid_template_rows": null,
            "height": null,
            "justify_content": null,
            "justify_items": null,
            "left": null,
            "margin": null,
            "max_height": null,
            "max_width": null,
            "min_height": null,
            "min_width": null,
            "object_fit": null,
            "object_position": null,
            "order": null,
            "overflow": null,
            "overflow_x": null,
            "overflow_y": null,
            "padding": null,
            "right": null,
            "top": null,
            "visibility": null,
            "width": null
          }
        },
        "cde157bcfca54c7397ebfc91554d8b0d": {
          "model_module": "@jupyter-widgets/base",
          "model_name": "LayoutModel",
          "model_module_version": "1.2.0",
          "state": {
            "_model_module": "@jupyter-widgets/base",
            "_model_module_version": "1.2.0",
            "_model_name": "LayoutModel",
            "_view_count": null,
            "_view_module": "@jupyter-widgets/base",
            "_view_module_version": "1.2.0",
            "_view_name": "LayoutView",
            "align_content": null,
            "align_items": null,
            "align_self": null,
            "border": null,
            "bottom": null,
            "display": null,
            "flex": null,
            "flex_flow": null,
            "grid_area": null,
            "grid_auto_columns": null,
            "grid_auto_flow": null,
            "grid_auto_rows": null,
            "grid_column": null,
            "grid_gap": null,
            "grid_row": null,
            "grid_template_areas": null,
            "grid_template_columns": null,
            "grid_template_rows": null,
            "height": null,
            "justify_content": null,
            "justify_items": null,
            "left": null,
            "margin": null,
            "max_height": null,
            "max_width": null,
            "min_height": null,
            "min_width": null,
            "object_fit": null,
            "object_position": null,
            "order": null,
            "overflow": null,
            "overflow_x": null,
            "overflow_y": null,
            "padding": null,
            "right": null,
            "top": null,
            "visibility": null,
            "width": null
          }
        },
        "d0fb820fcadc4eb1a5694019d579e3ab": {
          "model_module": "@jupyter-widgets/controls",
          "model_name": "DescriptionStyleModel",
          "model_module_version": "1.5.0",
          "state": {
            "_model_module": "@jupyter-widgets/controls",
            "_model_module_version": "1.5.0",
            "_model_name": "DescriptionStyleModel",
            "_view_count": null,
            "_view_module": "@jupyter-widgets/base",
            "_view_module_version": "1.2.0",
            "_view_name": "StyleView",
            "description_width": ""
          }
        },
        "020c1264bf0f45d789f06a80f853b224": {
          "model_module": "@jupyter-widgets/base",
          "model_name": "LayoutModel",
          "model_module_version": "1.2.0",
          "state": {
            "_model_module": "@jupyter-widgets/base",
            "_model_module_version": "1.2.0",
            "_model_name": "LayoutModel",
            "_view_count": null,
            "_view_module": "@jupyter-widgets/base",
            "_view_module_version": "1.2.0",
            "_view_name": "LayoutView",
            "align_content": null,
            "align_items": null,
            "align_self": null,
            "border": null,
            "bottom": null,
            "display": null,
            "flex": null,
            "flex_flow": null,
            "grid_area": null,
            "grid_auto_columns": null,
            "grid_auto_flow": null,
            "grid_auto_rows": null,
            "grid_column": null,
            "grid_gap": null,
            "grid_row": null,
            "grid_template_areas": null,
            "grid_template_columns": null,
            "grid_template_rows": null,
            "height": null,
            "justify_content": null,
            "justify_items": null,
            "left": null,
            "margin": null,
            "max_height": null,
            "max_width": null,
            "min_height": null,
            "min_width": null,
            "object_fit": null,
            "object_position": null,
            "order": null,
            "overflow": null,
            "overflow_x": null,
            "overflow_y": null,
            "padding": null,
            "right": null,
            "top": null,
            "visibility": null,
            "width": null
          }
        },
        "ae2283a623f54b1dbc1e2bab03b585ea": {
          "model_module": "@jupyter-widgets/controls",
          "model_name": "ProgressStyleModel",
          "model_module_version": "1.5.0",
          "state": {
            "_model_module": "@jupyter-widgets/controls",
            "_model_module_version": "1.5.0",
            "_model_name": "ProgressStyleModel",
            "_view_count": null,
            "_view_module": "@jupyter-widgets/base",
            "_view_module_version": "1.2.0",
            "_view_name": "StyleView",
            "bar_color": null,
            "description_width": ""
          }
        },
        "119aed3039d74331a1a565d6bcba4c46": {
          "model_module": "@jupyter-widgets/base",
          "model_name": "LayoutModel",
          "model_module_version": "1.2.0",
          "state": {
            "_model_module": "@jupyter-widgets/base",
            "_model_module_version": "1.2.0",
            "_model_name": "LayoutModel",
            "_view_count": null,
            "_view_module": "@jupyter-widgets/base",
            "_view_module_version": "1.2.0",
            "_view_name": "LayoutView",
            "align_content": null,
            "align_items": null,
            "align_self": null,
            "border": null,
            "bottom": null,
            "display": null,
            "flex": null,
            "flex_flow": null,
            "grid_area": null,
            "grid_auto_columns": null,
            "grid_auto_flow": null,
            "grid_auto_rows": null,
            "grid_column": null,
            "grid_gap": null,
            "grid_row": null,
            "grid_template_areas": null,
            "grid_template_columns": null,
            "grid_template_rows": null,
            "height": null,
            "justify_content": null,
            "justify_items": null,
            "left": null,
            "margin": null,
            "max_height": null,
            "max_width": null,
            "min_height": null,
            "min_width": null,
            "object_fit": null,
            "object_position": null,
            "order": null,
            "overflow": null,
            "overflow_x": null,
            "overflow_y": null,
            "padding": null,
            "right": null,
            "top": null,
            "visibility": null,
            "width": null
          }
        },
        "a4411eff1bf349fb897d7bba6cde9ff2": {
          "model_module": "@jupyter-widgets/controls",
          "model_name": "DescriptionStyleModel",
          "model_module_version": "1.5.0",
          "state": {
            "_model_module": "@jupyter-widgets/controls",
            "_model_module_version": "1.5.0",
            "_model_name": "DescriptionStyleModel",
            "_view_count": null,
            "_view_module": "@jupyter-widgets/base",
            "_view_module_version": "1.2.0",
            "_view_name": "StyleView",
            "description_width": ""
          }
        },
        "57c280ff53e74ea78d0b6ee3c2698271": {
          "model_module": "@jupyter-widgets/controls",
          "model_name": "HBoxModel",
          "model_module_version": "1.5.0",
          "state": {
            "_dom_classes": [],
            "_model_module": "@jupyter-widgets/controls",
            "_model_module_version": "1.5.0",
            "_model_name": "HBoxModel",
            "_view_count": null,
            "_view_module": "@jupyter-widgets/controls",
            "_view_module_version": "1.5.0",
            "_view_name": "HBoxView",
            "box_style": "",
            "children": [
              "IPY_MODEL_b656e71016b94761992ae444696edfba",
              "IPY_MODEL_3fb28f52586d4d179bc98820ce237415",
              "IPY_MODEL_5ec7095df36e45ab971626021b0975d1"
            ],
            "layout": "IPY_MODEL_2eb6dea0458b4283943ebfd966ce83b7"
          }
        },
        "b656e71016b94761992ae444696edfba": {
          "model_module": "@jupyter-widgets/controls",
          "model_name": "HTMLModel",
          "model_module_version": "1.5.0",
          "state": {
            "_dom_classes": [],
            "_model_module": "@jupyter-widgets/controls",
            "_model_module_version": "1.5.0",
            "_model_name": "HTMLModel",
            "_view_count": null,
            "_view_module": "@jupyter-widgets/controls",
            "_view_module_version": "1.5.0",
            "_view_name": "HTMLView",
            "description": "",
            "description_tooltip": null,
            "layout": "IPY_MODEL_3a7cb9bd2b3843b38aeccea2d94e3609",
            "placeholder": "​",
            "style": "IPY_MODEL_9eb6e2215b974bababf34b0ff5f3d4ca",
            "value": "Downloading (…)solve/main/vocab.txt: 100%"
          }
        },
        "3fb28f52586d4d179bc98820ce237415": {
          "model_module": "@jupyter-widgets/controls",
          "model_name": "FloatProgressModel",
          "model_module_version": "1.5.0",
          "state": {
            "_dom_classes": [],
            "_model_module": "@jupyter-widgets/controls",
            "_model_module_version": "1.5.0",
            "_model_name": "FloatProgressModel",
            "_view_count": null,
            "_view_module": "@jupyter-widgets/controls",
            "_view_module_version": "1.5.0",
            "_view_name": "ProgressView",
            "bar_style": "success",
            "description": "",
            "description_tooltip": null,
            "layout": "IPY_MODEL_666b858f16a74348b8054cbbab7efa57",
            "max": 213450,
            "min": 0,
            "orientation": "horizontal",
            "style": "IPY_MODEL_0d14ae9a0d7b4b48aa33400c73c211e8",
            "value": 213450
          }
        },
        "5ec7095df36e45ab971626021b0975d1": {
          "model_module": "@jupyter-widgets/controls",
          "model_name": "HTMLModel",
          "model_module_version": "1.5.0",
          "state": {
            "_dom_classes": [],
            "_model_module": "@jupyter-widgets/controls",
            "_model_module_version": "1.5.0",
            "_model_name": "HTMLModel",
            "_view_count": null,
            "_view_module": "@jupyter-widgets/controls",
            "_view_module_version": "1.5.0",
            "_view_name": "HTMLView",
            "description": "",
            "description_tooltip": null,
            "layout": "IPY_MODEL_a2b8f7e5ea0343a795f5ebe64b170539",
            "placeholder": "​",
            "style": "IPY_MODEL_d7a7d99ddeb84b9687a22f45b9309f82",
            "value": " 213k/213k [00:00&lt;00:00, 4.00MB/s]"
          }
        },
        "2eb6dea0458b4283943ebfd966ce83b7": {
          "model_module": "@jupyter-widgets/base",
          "model_name": "LayoutModel",
          "model_module_version": "1.2.0",
          "state": {
            "_model_module": "@jupyter-widgets/base",
            "_model_module_version": "1.2.0",
            "_model_name": "LayoutModel",
            "_view_count": null,
            "_view_module": "@jupyter-widgets/base",
            "_view_module_version": "1.2.0",
            "_view_name": "LayoutView",
            "align_content": null,
            "align_items": null,
            "align_self": null,
            "border": null,
            "bottom": null,
            "display": null,
            "flex": null,
            "flex_flow": null,
            "grid_area": null,
            "grid_auto_columns": null,
            "grid_auto_flow": null,
            "grid_auto_rows": null,
            "grid_column": null,
            "grid_gap": null,
            "grid_row": null,
            "grid_template_areas": null,
            "grid_template_columns": null,
            "grid_template_rows": null,
            "height": null,
            "justify_content": null,
            "justify_items": null,
            "left": null,
            "margin": null,
            "max_height": null,
            "max_width": null,
            "min_height": null,
            "min_width": null,
            "object_fit": null,
            "object_position": null,
            "order": null,
            "overflow": null,
            "overflow_x": null,
            "overflow_y": null,
            "padding": null,
            "right": null,
            "top": null,
            "visibility": null,
            "width": null
          }
        },
        "3a7cb9bd2b3843b38aeccea2d94e3609": {
          "model_module": "@jupyter-widgets/base",
          "model_name": "LayoutModel",
          "model_module_version": "1.2.0",
          "state": {
            "_model_module": "@jupyter-widgets/base",
            "_model_module_version": "1.2.0",
            "_model_name": "LayoutModel",
            "_view_count": null,
            "_view_module": "@jupyter-widgets/base",
            "_view_module_version": "1.2.0",
            "_view_name": "LayoutView",
            "align_content": null,
            "align_items": null,
            "align_self": null,
            "border": null,
            "bottom": null,
            "display": null,
            "flex": null,
            "flex_flow": null,
            "grid_area": null,
            "grid_auto_columns": null,
            "grid_auto_flow": null,
            "grid_auto_rows": null,
            "grid_column": null,
            "grid_gap": null,
            "grid_row": null,
            "grid_template_areas": null,
            "grid_template_columns": null,
            "grid_template_rows": null,
            "height": null,
            "justify_content": null,
            "justify_items": null,
            "left": null,
            "margin": null,
            "max_height": null,
            "max_width": null,
            "min_height": null,
            "min_width": null,
            "object_fit": null,
            "object_position": null,
            "order": null,
            "overflow": null,
            "overflow_x": null,
            "overflow_y": null,
            "padding": null,
            "right": null,
            "top": null,
            "visibility": null,
            "width": null
          }
        },
        "9eb6e2215b974bababf34b0ff5f3d4ca": {
          "model_module": "@jupyter-widgets/controls",
          "model_name": "DescriptionStyleModel",
          "model_module_version": "1.5.0",
          "state": {
            "_model_module": "@jupyter-widgets/controls",
            "_model_module_version": "1.5.0",
            "_model_name": "DescriptionStyleModel",
            "_view_count": null,
            "_view_module": "@jupyter-widgets/base",
            "_view_module_version": "1.2.0",
            "_view_name": "StyleView",
            "description_width": ""
          }
        },
        "666b858f16a74348b8054cbbab7efa57": {
          "model_module": "@jupyter-widgets/base",
          "model_name": "LayoutModel",
          "model_module_version": "1.2.0",
          "state": {
            "_model_module": "@jupyter-widgets/base",
            "_model_module_version": "1.2.0",
            "_model_name": "LayoutModel",
            "_view_count": null,
            "_view_module": "@jupyter-widgets/base",
            "_view_module_version": "1.2.0",
            "_view_name": "LayoutView",
            "align_content": null,
            "align_items": null,
            "align_self": null,
            "border": null,
            "bottom": null,
            "display": null,
            "flex": null,
            "flex_flow": null,
            "grid_area": null,
            "grid_auto_columns": null,
            "grid_auto_flow": null,
            "grid_auto_rows": null,
            "grid_column": null,
            "grid_gap": null,
            "grid_row": null,
            "grid_template_areas": null,
            "grid_template_columns": null,
            "grid_template_rows": null,
            "height": null,
            "justify_content": null,
            "justify_items": null,
            "left": null,
            "margin": null,
            "max_height": null,
            "max_width": null,
            "min_height": null,
            "min_width": null,
            "object_fit": null,
            "object_position": null,
            "order": null,
            "overflow": null,
            "overflow_x": null,
            "overflow_y": null,
            "padding": null,
            "right": null,
            "top": null,
            "visibility": null,
            "width": null
          }
        },
        "0d14ae9a0d7b4b48aa33400c73c211e8": {
          "model_module": "@jupyter-widgets/controls",
          "model_name": "ProgressStyleModel",
          "model_module_version": "1.5.0",
          "state": {
            "_model_module": "@jupyter-widgets/controls",
            "_model_module_version": "1.5.0",
            "_model_name": "ProgressStyleModel",
            "_view_count": null,
            "_view_module": "@jupyter-widgets/base",
            "_view_module_version": "1.2.0",
            "_view_name": "StyleView",
            "bar_color": null,
            "description_width": ""
          }
        },
        "a2b8f7e5ea0343a795f5ebe64b170539": {
          "model_module": "@jupyter-widgets/base",
          "model_name": "LayoutModel",
          "model_module_version": "1.2.0",
          "state": {
            "_model_module": "@jupyter-widgets/base",
            "_model_module_version": "1.2.0",
            "_model_name": "LayoutModel",
            "_view_count": null,
            "_view_module": "@jupyter-widgets/base",
            "_view_module_version": "1.2.0",
            "_view_name": "LayoutView",
            "align_content": null,
            "align_items": null,
            "align_self": null,
            "border": null,
            "bottom": null,
            "display": null,
            "flex": null,
            "flex_flow": null,
            "grid_area": null,
            "grid_auto_columns": null,
            "grid_auto_flow": null,
            "grid_auto_rows": null,
            "grid_column": null,
            "grid_gap": null,
            "grid_row": null,
            "grid_template_areas": null,
            "grid_template_columns": null,
            "grid_template_rows": null,
            "height": null,
            "justify_content": null,
            "justify_items": null,
            "left": null,
            "margin": null,
            "max_height": null,
            "max_width": null,
            "min_height": null,
            "min_width": null,
            "object_fit": null,
            "object_position": null,
            "order": null,
            "overflow": null,
            "overflow_x": null,
            "overflow_y": null,
            "padding": null,
            "right": null,
            "top": null,
            "visibility": null,
            "width": null
          }
        },
        "d7a7d99ddeb84b9687a22f45b9309f82": {
          "model_module": "@jupyter-widgets/controls",
          "model_name": "DescriptionStyleModel",
          "model_module_version": "1.5.0",
          "state": {
            "_model_module": "@jupyter-widgets/controls",
            "_model_module_version": "1.5.0",
            "_model_name": "DescriptionStyleModel",
            "_view_count": null,
            "_view_module": "@jupyter-widgets/base",
            "_view_module_version": "1.2.0",
            "_view_name": "StyleView",
            "description_width": ""
          }
        },
        "f4cc4522af924e908cc6410526178c7a": {
          "model_module": "@jupyter-widgets/controls",
          "model_name": "HBoxModel",
          "model_module_version": "1.5.0",
          "state": {
            "_dom_classes": [],
            "_model_module": "@jupyter-widgets/controls",
            "_model_module_version": "1.5.0",
            "_model_name": "HBoxModel",
            "_view_count": null,
            "_view_module": "@jupyter-widgets/controls",
            "_view_module_version": "1.5.0",
            "_view_name": "HBoxView",
            "box_style": "",
            "children": [
              "IPY_MODEL_18fbc99154814aa4a4597b71925a7266",
              "IPY_MODEL_ad07b6ed652b4262b56c6911e0ed5074",
              "IPY_MODEL_9d8b124d80fb44d88fd92cf84aafdbff"
            ],
            "layout": "IPY_MODEL_47c0cf37f46f4cada810e79c2955fcb0"
          }
        },
        "18fbc99154814aa4a4597b71925a7266": {
          "model_module": "@jupyter-widgets/controls",
          "model_name": "HTMLModel",
          "model_module_version": "1.5.0",
          "state": {
            "_dom_classes": [],
            "_model_module": "@jupyter-widgets/controls",
            "_model_module_version": "1.5.0",
            "_model_name": "HTMLModel",
            "_view_count": null,
            "_view_module": "@jupyter-widgets/controls",
            "_view_module_version": "1.5.0",
            "_view_name": "HTMLView",
            "description": "",
            "description_tooltip": null,
            "layout": "IPY_MODEL_dcaecdc3b69c415cbaea36a8e79ca1eb",
            "placeholder": "​",
            "style": "IPY_MODEL_1e8921f16e8743a2a79fdd6064eb1f78",
            "value": "Downloading (…)/main/tokenizer.json: 100%"
          }
        },
        "ad07b6ed652b4262b56c6911e0ed5074": {
          "model_module": "@jupyter-widgets/controls",
          "model_name": "FloatProgressModel",
          "model_module_version": "1.5.0",
          "state": {
            "_dom_classes": [],
            "_model_module": "@jupyter-widgets/controls",
            "_model_module_version": "1.5.0",
            "_model_name": "FloatProgressModel",
            "_view_count": null,
            "_view_module": "@jupyter-widgets/controls",
            "_view_module_version": "1.5.0",
            "_view_name": "ProgressView",
            "bar_style": "success",
            "description": "",
            "description_tooltip": null,
            "layout": "IPY_MODEL_ad9ead77a8b04b15994b2485be44efd3",
            "max": 435797,
            "min": 0,
            "orientation": "horizontal",
            "style": "IPY_MODEL_eee682a209f545c1839986f0b01ba190",
            "value": 435797
          }
        },
        "9d8b124d80fb44d88fd92cf84aafdbff": {
          "model_module": "@jupyter-widgets/controls",
          "model_name": "HTMLModel",
          "model_module_version": "1.5.0",
          "state": {
            "_dom_classes": [],
            "_model_module": "@jupyter-widgets/controls",
            "_model_module_version": "1.5.0",
            "_model_name": "HTMLModel",
            "_view_count": null,
            "_view_module": "@jupyter-widgets/controls",
            "_view_module_version": "1.5.0",
            "_view_name": "HTMLView",
            "description": "",
            "description_tooltip": null,
            "layout": "IPY_MODEL_bc085d33f07c493896da27eb67a4f071",
            "placeholder": "​",
            "style": "IPY_MODEL_2a6824a0cc114bcd905f05448862d458",
            "value": " 436k/436k [00:00&lt;00:00, 11.7MB/s]"
          }
        },
        "47c0cf37f46f4cada810e79c2955fcb0": {
          "model_module": "@jupyter-widgets/base",
          "model_name": "LayoutModel",
          "model_module_version": "1.2.0",
          "state": {
            "_model_module": "@jupyter-widgets/base",
            "_model_module_version": "1.2.0",
            "_model_name": "LayoutModel",
            "_view_count": null,
            "_view_module": "@jupyter-widgets/base",
            "_view_module_version": "1.2.0",
            "_view_name": "LayoutView",
            "align_content": null,
            "align_items": null,
            "align_self": null,
            "border": null,
            "bottom": null,
            "display": null,
            "flex": null,
            "flex_flow": null,
            "grid_area": null,
            "grid_auto_columns": null,
            "grid_auto_flow": null,
            "grid_auto_rows": null,
            "grid_column": null,
            "grid_gap": null,
            "grid_row": null,
            "grid_template_areas": null,
            "grid_template_columns": null,
            "grid_template_rows": null,
            "height": null,
            "justify_content": null,
            "justify_items": null,
            "left": null,
            "margin": null,
            "max_height": null,
            "max_width": null,
            "min_height": null,
            "min_width": null,
            "object_fit": null,
            "object_position": null,
            "order": null,
            "overflow": null,
            "overflow_x": null,
            "overflow_y": null,
            "padding": null,
            "right": null,
            "top": null,
            "visibility": null,
            "width": null
          }
        },
        "dcaecdc3b69c415cbaea36a8e79ca1eb": {
          "model_module": "@jupyter-widgets/base",
          "model_name": "LayoutModel",
          "model_module_version": "1.2.0",
          "state": {
            "_model_module": "@jupyter-widgets/base",
            "_model_module_version": "1.2.0",
            "_model_name": "LayoutModel",
            "_view_count": null,
            "_view_module": "@jupyter-widgets/base",
            "_view_module_version": "1.2.0",
            "_view_name": "LayoutView",
            "align_content": null,
            "align_items": null,
            "align_self": null,
            "border": null,
            "bottom": null,
            "display": null,
            "flex": null,
            "flex_flow": null,
            "grid_area": null,
            "grid_auto_columns": null,
            "grid_auto_flow": null,
            "grid_auto_rows": null,
            "grid_column": null,
            "grid_gap": null,
            "grid_row": null,
            "grid_template_areas": null,
            "grid_template_columns": null,
            "grid_template_rows": null,
            "height": null,
            "justify_content": null,
            "justify_items": null,
            "left": null,
            "margin": null,
            "max_height": null,
            "max_width": null,
            "min_height": null,
            "min_width": null,
            "object_fit": null,
            "object_position": null,
            "order": null,
            "overflow": null,
            "overflow_x": null,
            "overflow_y": null,
            "padding": null,
            "right": null,
            "top": null,
            "visibility": null,
            "width": null
          }
        },
        "1e8921f16e8743a2a79fdd6064eb1f78": {
          "model_module": "@jupyter-widgets/controls",
          "model_name": "DescriptionStyleModel",
          "model_module_version": "1.5.0",
          "state": {
            "_model_module": "@jupyter-widgets/controls",
            "_model_module_version": "1.5.0",
            "_model_name": "DescriptionStyleModel",
            "_view_count": null,
            "_view_module": "@jupyter-widgets/base",
            "_view_module_version": "1.2.0",
            "_view_name": "StyleView",
            "description_width": ""
          }
        },
        "ad9ead77a8b04b15994b2485be44efd3": {
          "model_module": "@jupyter-widgets/base",
          "model_name": "LayoutModel",
          "model_module_version": "1.2.0",
          "state": {
            "_model_module": "@jupyter-widgets/base",
            "_model_module_version": "1.2.0",
            "_model_name": "LayoutModel",
            "_view_count": null,
            "_view_module": "@jupyter-widgets/base",
            "_view_module_version": "1.2.0",
            "_view_name": "LayoutView",
            "align_content": null,
            "align_items": null,
            "align_self": null,
            "border": null,
            "bottom": null,
            "display": null,
            "flex": null,
            "flex_flow": null,
            "grid_area": null,
            "grid_auto_columns": null,
            "grid_auto_flow": null,
            "grid_auto_rows": null,
            "grid_column": null,
            "grid_gap": null,
            "grid_row": null,
            "grid_template_areas": null,
            "grid_template_columns": null,
            "grid_template_rows": null,
            "height": null,
            "justify_content": null,
            "justify_items": null,
            "left": null,
            "margin": null,
            "max_height": null,
            "max_width": null,
            "min_height": null,
            "min_width": null,
            "object_fit": null,
            "object_position": null,
            "order": null,
            "overflow": null,
            "overflow_x": null,
            "overflow_y": null,
            "padding": null,
            "right": null,
            "top": null,
            "visibility": null,
            "width": null
          }
        },
        "eee682a209f545c1839986f0b01ba190": {
          "model_module": "@jupyter-widgets/controls",
          "model_name": "ProgressStyleModel",
          "model_module_version": "1.5.0",
          "state": {
            "_model_module": "@jupyter-widgets/controls",
            "_model_module_version": "1.5.0",
            "_model_name": "ProgressStyleModel",
            "_view_count": null,
            "_view_module": "@jupyter-widgets/base",
            "_view_module_version": "1.2.0",
            "_view_name": "StyleView",
            "bar_color": null,
            "description_width": ""
          }
        },
        "bc085d33f07c493896da27eb67a4f071": {
          "model_module": "@jupyter-widgets/base",
          "model_name": "LayoutModel",
          "model_module_version": "1.2.0",
          "state": {
            "_model_module": "@jupyter-widgets/base",
            "_model_module_version": "1.2.0",
            "_model_name": "LayoutModel",
            "_view_count": null,
            "_view_module": "@jupyter-widgets/base",
            "_view_module_version": "1.2.0",
            "_view_name": "LayoutView",
            "align_content": null,
            "align_items": null,
            "align_self": null,
            "border": null,
            "bottom": null,
            "display": null,
            "flex": null,
            "flex_flow": null,
            "grid_area": null,
            "grid_auto_columns": null,
            "grid_auto_flow": null,
            "grid_auto_rows": null,
            "grid_column": null,
            "grid_gap": null,
            "grid_row": null,
            "grid_template_areas": null,
            "grid_template_columns": null,
            "grid_template_rows": null,
            "height": null,
            "justify_content": null,
            "justify_items": null,
            "left": null,
            "margin": null,
            "max_height": null,
            "max_width": null,
            "min_height": null,
            "min_width": null,
            "object_fit": null,
            "object_position": null,
            "order": null,
            "overflow": null,
            "overflow_x": null,
            "overflow_y": null,
            "padding": null,
            "right": null,
            "top": null,
            "visibility": null,
            "width": null
          }
        },
        "2a6824a0cc114bcd905f05448862d458": {
          "model_module": "@jupyter-widgets/controls",
          "model_name": "DescriptionStyleModel",
          "model_module_version": "1.5.0",
          "state": {
            "_model_module": "@jupyter-widgets/controls",
            "_model_module_version": "1.5.0",
            "_model_name": "DescriptionStyleModel",
            "_view_count": null,
            "_view_module": "@jupyter-widgets/base",
            "_view_module_version": "1.2.0",
            "_view_name": "StyleView",
            "description_width": ""
          }
        },
        "c4accb678d4e4d1dbe55705d3393a70c": {
          "model_module": "@jupyter-widgets/controls",
          "model_name": "HBoxModel",
          "model_module_version": "1.5.0",
          "state": {
            "_dom_classes": [],
            "_model_module": "@jupyter-widgets/controls",
            "_model_module_version": "1.5.0",
            "_model_name": "HBoxModel",
            "_view_count": null,
            "_view_module": "@jupyter-widgets/controls",
            "_view_module_version": "1.5.0",
            "_view_name": "HBoxView",
            "box_style": "",
            "children": [
              "IPY_MODEL_8111f88ff95746a9ba8cd5786716fa52",
              "IPY_MODEL_49ac02f46c774601a434fd6dbcb2a04b",
              "IPY_MODEL_1d1577ad927943438fa32aad33f619ac"
            ],
            "layout": "IPY_MODEL_2e727c5f847c46cb9233c8b1b2230052"
          }
        },
        "8111f88ff95746a9ba8cd5786716fa52": {
          "model_module": "@jupyter-widgets/controls",
          "model_name": "HTMLModel",
          "model_module_version": "1.5.0",
          "state": {
            "_dom_classes": [],
            "_model_module": "@jupyter-widgets/controls",
            "_model_module_version": "1.5.0",
            "_model_name": "HTMLModel",
            "_view_count": null,
            "_view_module": "@jupyter-widgets/controls",
            "_view_module_version": "1.5.0",
            "_view_name": "HTMLView",
            "description": "",
            "description_tooltip": null,
            "layout": "IPY_MODEL_45e9f7598b7b4a10a535e829120ee05c",
            "placeholder": "​",
            "style": "IPY_MODEL_13470bc7873646daadd8d1d9ecf54950",
            "value": "Downloading model.safetensors: 100%"
          }
        },
        "49ac02f46c774601a434fd6dbcb2a04b": {
          "model_module": "@jupyter-widgets/controls",
          "model_name": "FloatProgressModel",
          "model_module_version": "1.5.0",
          "state": {
            "_dom_classes": [],
            "_model_module": "@jupyter-widgets/controls",
            "_model_module_version": "1.5.0",
            "_model_name": "FloatProgressModel",
            "_view_count": null,
            "_view_module": "@jupyter-widgets/controls",
            "_view_module_version": "1.5.0",
            "_view_name": "ProgressView",
            "bar_style": "success",
            "description": "",
            "description_tooltip": null,
            "layout": "IPY_MODEL_d400f2e9be8a46218f8357308ac6172a",
            "max": 435755784,
            "min": 0,
            "orientation": "horizontal",
            "style": "IPY_MODEL_3902015280604a78905a8ba71fd8b59d",
            "value": 435755784
          }
        },
        "1d1577ad927943438fa32aad33f619ac": {
          "model_module": "@jupyter-widgets/controls",
          "model_name": "HTMLModel",
          "model_module_version": "1.5.0",
          "state": {
            "_dom_classes": [],
            "_model_module": "@jupyter-widgets/controls",
            "_model_module_version": "1.5.0",
            "_model_name": "HTMLModel",
            "_view_count": null,
            "_view_module": "@jupyter-widgets/controls",
            "_view_module_version": "1.5.0",
            "_view_name": "HTMLView",
            "description": "",
            "description_tooltip": null,
            "layout": "IPY_MODEL_adf2015a479e411c87ed33ca31ad1068",
            "placeholder": "​",
            "style": "IPY_MODEL_252edcd4b9d64885838b5ea923a7778b",
            "value": " 436M/436M [00:07&lt;00:00, 53.5MB/s]"
          }
        },
        "2e727c5f847c46cb9233c8b1b2230052": {
          "model_module": "@jupyter-widgets/base",
          "model_name": "LayoutModel",
          "model_module_version": "1.2.0",
          "state": {
            "_model_module": "@jupyter-widgets/base",
            "_model_module_version": "1.2.0",
            "_model_name": "LayoutModel",
            "_view_count": null,
            "_view_module": "@jupyter-widgets/base",
            "_view_module_version": "1.2.0",
            "_view_name": "LayoutView",
            "align_content": null,
            "align_items": null,
            "align_self": null,
            "border": null,
            "bottom": null,
            "display": null,
            "flex": null,
            "flex_flow": null,
            "grid_area": null,
            "grid_auto_columns": null,
            "grid_auto_flow": null,
            "grid_auto_rows": null,
            "grid_column": null,
            "grid_gap": null,
            "grid_row": null,
            "grid_template_areas": null,
            "grid_template_columns": null,
            "grid_template_rows": null,
            "height": null,
            "justify_content": null,
            "justify_items": null,
            "left": null,
            "margin": null,
            "max_height": null,
            "max_width": null,
            "min_height": null,
            "min_width": null,
            "object_fit": null,
            "object_position": null,
            "order": null,
            "overflow": null,
            "overflow_x": null,
            "overflow_y": null,
            "padding": null,
            "right": null,
            "top": null,
            "visibility": null,
            "width": null
          }
        },
        "45e9f7598b7b4a10a535e829120ee05c": {
          "model_module": "@jupyter-widgets/base",
          "model_name": "LayoutModel",
          "model_module_version": "1.2.0",
          "state": {
            "_model_module": "@jupyter-widgets/base",
            "_model_module_version": "1.2.0",
            "_model_name": "LayoutModel",
            "_view_count": null,
            "_view_module": "@jupyter-widgets/base",
            "_view_module_version": "1.2.0",
            "_view_name": "LayoutView",
            "align_content": null,
            "align_items": null,
            "align_self": null,
            "border": null,
            "bottom": null,
            "display": null,
            "flex": null,
            "flex_flow": null,
            "grid_area": null,
            "grid_auto_columns": null,
            "grid_auto_flow": null,
            "grid_auto_rows": null,
            "grid_column": null,
            "grid_gap": null,
            "grid_row": null,
            "grid_template_areas": null,
            "grid_template_columns": null,
            "grid_template_rows": null,
            "height": null,
            "justify_content": null,
            "justify_items": null,
            "left": null,
            "margin": null,
            "max_height": null,
            "max_width": null,
            "min_height": null,
            "min_width": null,
            "object_fit": null,
            "object_position": null,
            "order": null,
            "overflow": null,
            "overflow_x": null,
            "overflow_y": null,
            "padding": null,
            "right": null,
            "top": null,
            "visibility": null,
            "width": null
          }
        },
        "13470bc7873646daadd8d1d9ecf54950": {
          "model_module": "@jupyter-widgets/controls",
          "model_name": "DescriptionStyleModel",
          "model_module_version": "1.5.0",
          "state": {
            "_model_module": "@jupyter-widgets/controls",
            "_model_module_version": "1.5.0",
            "_model_name": "DescriptionStyleModel",
            "_view_count": null,
            "_view_module": "@jupyter-widgets/base",
            "_view_module_version": "1.2.0",
            "_view_name": "StyleView",
            "description_width": ""
          }
        },
        "d400f2e9be8a46218f8357308ac6172a": {
          "model_module": "@jupyter-widgets/base",
          "model_name": "LayoutModel",
          "model_module_version": "1.2.0",
          "state": {
            "_model_module": "@jupyter-widgets/base",
            "_model_module_version": "1.2.0",
            "_model_name": "LayoutModel",
            "_view_count": null,
            "_view_module": "@jupyter-widgets/base",
            "_view_module_version": "1.2.0",
            "_view_name": "LayoutView",
            "align_content": null,
            "align_items": null,
            "align_self": null,
            "border": null,
            "bottom": null,
            "display": null,
            "flex": null,
            "flex_flow": null,
            "grid_area": null,
            "grid_auto_columns": null,
            "grid_auto_flow": null,
            "grid_auto_rows": null,
            "grid_column": null,
            "grid_gap": null,
            "grid_row": null,
            "grid_template_areas": null,
            "grid_template_columns": null,
            "grid_template_rows": null,
            "height": null,
            "justify_content": null,
            "justify_items": null,
            "left": null,
            "margin": null,
            "max_height": null,
            "max_width": null,
            "min_height": null,
            "min_width": null,
            "object_fit": null,
            "object_position": null,
            "order": null,
            "overflow": null,
            "overflow_x": null,
            "overflow_y": null,
            "padding": null,
            "right": null,
            "top": null,
            "visibility": null,
            "width": null
          }
        },
        "3902015280604a78905a8ba71fd8b59d": {
          "model_module": "@jupyter-widgets/controls",
          "model_name": "ProgressStyleModel",
          "model_module_version": "1.5.0",
          "state": {
            "_model_module": "@jupyter-widgets/controls",
            "_model_module_version": "1.5.0",
            "_model_name": "ProgressStyleModel",
            "_view_count": null,
            "_view_module": "@jupyter-widgets/base",
            "_view_module_version": "1.2.0",
            "_view_name": "StyleView",
            "bar_color": null,
            "description_width": ""
          }
        },
        "adf2015a479e411c87ed33ca31ad1068": {
          "model_module": "@jupyter-widgets/base",
          "model_name": "LayoutModel",
          "model_module_version": "1.2.0",
          "state": {
            "_model_module": "@jupyter-widgets/base",
            "_model_module_version": "1.2.0",
            "_model_name": "LayoutModel",
            "_view_count": null,
            "_view_module": "@jupyter-widgets/base",
            "_view_module_version": "1.2.0",
            "_view_name": "LayoutView",
            "align_content": null,
            "align_items": null,
            "align_self": null,
            "border": null,
            "bottom": null,
            "display": null,
            "flex": null,
            "flex_flow": null,
            "grid_area": null,
            "grid_auto_columns": null,
            "grid_auto_flow": null,
            "grid_auto_rows": null,
            "grid_column": null,
            "grid_gap": null,
            "grid_row": null,
            "grid_template_areas": null,
            "grid_template_columns": null,
            "grid_template_rows": null,
            "height": null,
            "justify_content": null,
            "justify_items": null,
            "left": null,
            "margin": null,
            "max_height": null,
            "max_width": null,
            "min_height": null,
            "min_width": null,
            "object_fit": null,
            "object_position": null,
            "order": null,
            "overflow": null,
            "overflow_x": null,
            "overflow_y": null,
            "padding": null,
            "right": null,
            "top": null,
            "visibility": null,
            "width": null
          }
        },
        "252edcd4b9d64885838b5ea923a7778b": {
          "model_module": "@jupyter-widgets/controls",
          "model_name": "DescriptionStyleModel",
          "model_module_version": "1.5.0",
          "state": {
            "_model_module": "@jupyter-widgets/controls",
            "_model_module_version": "1.5.0",
            "_model_name": "DescriptionStyleModel",
            "_view_count": null,
            "_view_module": "@jupyter-widgets/base",
            "_view_module_version": "1.2.0",
            "_view_name": "StyleView",
            "description_width": ""
          }
        },
        "14be49a27f494973b3374d7c480828f9": {
          "model_module": "@jupyter-widgets/controls",
          "model_name": "HBoxModel",
          "model_module_version": "1.5.0",
          "state": {
            "_dom_classes": [],
            "_model_module": "@jupyter-widgets/controls",
            "_model_module_version": "1.5.0",
            "_model_name": "HBoxModel",
            "_view_count": null,
            "_view_module": "@jupyter-widgets/controls",
            "_view_module_version": "1.5.0",
            "_view_name": "HBoxView",
            "box_style": "",
            "children": [
              "IPY_MODEL_3ec071d7b39d4385bcc8b35519d78f70",
              "IPY_MODEL_0c09238f27f343eeb6587795f1f05914",
              "IPY_MODEL_30a9b3affcb94afa9f7b00a86f56f041"
            ],
            "layout": "IPY_MODEL_a3bb013be9c84e338b472a03df4f0a59"
          }
        },
        "3ec071d7b39d4385bcc8b35519d78f70": {
          "model_module": "@jupyter-widgets/controls",
          "model_name": "HTMLModel",
          "model_module_version": "1.5.0",
          "state": {
            "_dom_classes": [],
            "_model_module": "@jupyter-widgets/controls",
            "_model_module_version": "1.5.0",
            "_model_name": "HTMLModel",
            "_view_count": null,
            "_view_module": "@jupyter-widgets/controls",
            "_view_module_version": "1.5.0",
            "_view_name": "HTMLView",
            "description": "",
            "description_tooltip": null,
            "layout": "IPY_MODEL_9376c80cf086435bafaf48439e5e2366",
            "placeholder": "​",
            "style": "IPY_MODEL_8981b871f3164576b6ed2ae942a26626",
            "value": "Downloading builder script: 100%"
          }
        },
        "0c09238f27f343eeb6587795f1f05914": {
          "model_module": "@jupyter-widgets/controls",
          "model_name": "FloatProgressModel",
          "model_module_version": "1.5.0",
          "state": {
            "_dom_classes": [],
            "_model_module": "@jupyter-widgets/controls",
            "_model_module_version": "1.5.0",
            "_model_name": "FloatProgressModel",
            "_view_count": null,
            "_view_module": "@jupyter-widgets/controls",
            "_view_module_version": "1.5.0",
            "_view_name": "ProgressView",
            "bar_style": "success",
            "description": "",
            "description_tooltip": null,
            "layout": "IPY_MODEL_b9691b903c864ed6b36ebc053a34472e",
            "max": 6338,
            "min": 0,
            "orientation": "horizontal",
            "style": "IPY_MODEL_44009e3bf36e4249b4d0e53a42b84f1c",
            "value": 6338
          }
        },
        "30a9b3affcb94afa9f7b00a86f56f041": {
          "model_module": "@jupyter-widgets/controls",
          "model_name": "HTMLModel",
          "model_module_version": "1.5.0",
          "state": {
            "_dom_classes": [],
            "_model_module": "@jupyter-widgets/controls",
            "_model_module_version": "1.5.0",
            "_model_name": "HTMLModel",
            "_view_count": null,
            "_view_module": "@jupyter-widgets/controls",
            "_view_module_version": "1.5.0",
            "_view_name": "HTMLView",
            "description": "",
            "description_tooltip": null,
            "layout": "IPY_MODEL_adb06ab9bfa24c8589a7229db5f5b82e",
            "placeholder": "​",
            "style": "IPY_MODEL_3d2614ec8a49495c9bea8517fcaad73e",
            "value": " 6.34k/6.34k [00:00&lt;00:00, 138kB/s]"
          }
        },
        "a3bb013be9c84e338b472a03df4f0a59": {
          "model_module": "@jupyter-widgets/base",
          "model_name": "LayoutModel",
          "model_module_version": "1.2.0",
          "state": {
            "_model_module": "@jupyter-widgets/base",
            "_model_module_version": "1.2.0",
            "_model_name": "LayoutModel",
            "_view_count": null,
            "_view_module": "@jupyter-widgets/base",
            "_view_module_version": "1.2.0",
            "_view_name": "LayoutView",
            "align_content": null,
            "align_items": null,
            "align_self": null,
            "border": null,
            "bottom": null,
            "display": null,
            "flex": null,
            "flex_flow": null,
            "grid_area": null,
            "grid_auto_columns": null,
            "grid_auto_flow": null,
            "grid_auto_rows": null,
            "grid_column": null,
            "grid_gap": null,
            "grid_row": null,
            "grid_template_areas": null,
            "grid_template_columns": null,
            "grid_template_rows": null,
            "height": null,
            "justify_content": null,
            "justify_items": null,
            "left": null,
            "margin": null,
            "max_height": null,
            "max_width": null,
            "min_height": null,
            "min_width": null,
            "object_fit": null,
            "object_position": null,
            "order": null,
            "overflow": null,
            "overflow_x": null,
            "overflow_y": null,
            "padding": null,
            "right": null,
            "top": null,
            "visibility": null,
            "width": null
          }
        },
        "9376c80cf086435bafaf48439e5e2366": {
          "model_module": "@jupyter-widgets/base",
          "model_name": "LayoutModel",
          "model_module_version": "1.2.0",
          "state": {
            "_model_module": "@jupyter-widgets/base",
            "_model_module_version": "1.2.0",
            "_model_name": "LayoutModel",
            "_view_count": null,
            "_view_module": "@jupyter-widgets/base",
            "_view_module_version": "1.2.0",
            "_view_name": "LayoutView",
            "align_content": null,
            "align_items": null,
            "align_self": null,
            "border": null,
            "bottom": null,
            "display": null,
            "flex": null,
            "flex_flow": null,
            "grid_area": null,
            "grid_auto_columns": null,
            "grid_auto_flow": null,
            "grid_auto_rows": null,
            "grid_column": null,
            "grid_gap": null,
            "grid_row": null,
            "grid_template_areas": null,
            "grid_template_columns": null,
            "grid_template_rows": null,
            "height": null,
            "justify_content": null,
            "justify_items": null,
            "left": null,
            "margin": null,
            "max_height": null,
            "max_width": null,
            "min_height": null,
            "min_width": null,
            "object_fit": null,
            "object_position": null,
            "order": null,
            "overflow": null,
            "overflow_x": null,
            "overflow_y": null,
            "padding": null,
            "right": null,
            "top": null,
            "visibility": null,
            "width": null
          }
        },
        "8981b871f3164576b6ed2ae942a26626": {
          "model_module": "@jupyter-widgets/controls",
          "model_name": "DescriptionStyleModel",
          "model_module_version": "1.5.0",
          "state": {
            "_model_module": "@jupyter-widgets/controls",
            "_model_module_version": "1.5.0",
            "_model_name": "DescriptionStyleModel",
            "_view_count": null,
            "_view_module": "@jupyter-widgets/base",
            "_view_module_version": "1.2.0",
            "_view_name": "StyleView",
            "description_width": ""
          }
        },
        "b9691b903c864ed6b36ebc053a34472e": {
          "model_module": "@jupyter-widgets/base",
          "model_name": "LayoutModel",
          "model_module_version": "1.2.0",
          "state": {
            "_model_module": "@jupyter-widgets/base",
            "_model_module_version": "1.2.0",
            "_model_name": "LayoutModel",
            "_view_count": null,
            "_view_module": "@jupyter-widgets/base",
            "_view_module_version": "1.2.0",
            "_view_name": "LayoutView",
            "align_content": null,
            "align_items": null,
            "align_self": null,
            "border": null,
            "bottom": null,
            "display": null,
            "flex": null,
            "flex_flow": null,
            "grid_area": null,
            "grid_auto_columns": null,
            "grid_auto_flow": null,
            "grid_auto_rows": null,
            "grid_column": null,
            "grid_gap": null,
            "grid_row": null,
            "grid_template_areas": null,
            "grid_template_columns": null,
            "grid_template_rows": null,
            "height": null,
            "justify_content": null,
            "justify_items": null,
            "left": null,
            "margin": null,
            "max_height": null,
            "max_width": null,
            "min_height": null,
            "min_width": null,
            "object_fit": null,
            "object_position": null,
            "order": null,
            "overflow": null,
            "overflow_x": null,
            "overflow_y": null,
            "padding": null,
            "right": null,
            "top": null,
            "visibility": null,
            "width": null
          }
        },
        "44009e3bf36e4249b4d0e53a42b84f1c": {
          "model_module": "@jupyter-widgets/controls",
          "model_name": "ProgressStyleModel",
          "model_module_version": "1.5.0",
          "state": {
            "_model_module": "@jupyter-widgets/controls",
            "_model_module_version": "1.5.0",
            "_model_name": "ProgressStyleModel",
            "_view_count": null,
            "_view_module": "@jupyter-widgets/base",
            "_view_module_version": "1.2.0",
            "_view_name": "StyleView",
            "bar_color": null,
            "description_width": ""
          }
        },
        "adb06ab9bfa24c8589a7229db5f5b82e": {
          "model_module": "@jupyter-widgets/base",
          "model_name": "LayoutModel",
          "model_module_version": "1.2.0",
          "state": {
            "_model_module": "@jupyter-widgets/base",
            "_model_module_version": "1.2.0",
            "_model_name": "LayoutModel",
            "_view_count": null,
            "_view_module": "@jupyter-widgets/base",
            "_view_module_version": "1.2.0",
            "_view_name": "LayoutView",
            "align_content": null,
            "align_items": null,
            "align_self": null,
            "border": null,
            "bottom": null,
            "display": null,
            "flex": null,
            "flex_flow": null,
            "grid_area": null,
            "grid_auto_columns": null,
            "grid_auto_flow": null,
            "grid_auto_rows": null,
            "grid_column": null,
            "grid_gap": null,
            "grid_row": null,
            "grid_template_areas": null,
            "grid_template_columns": null,
            "grid_template_rows": null,
            "height": null,
            "justify_content": null,
            "justify_items": null,
            "left": null,
            "margin": null,
            "max_height": null,
            "max_width": null,
            "min_height": null,
            "min_width": null,
            "object_fit": null,
            "object_position": null,
            "order": null,
            "overflow": null,
            "overflow_x": null,
            "overflow_y": null,
            "padding": null,
            "right": null,
            "top": null,
            "visibility": null,
            "width": null
          }
        },
        "3d2614ec8a49495c9bea8517fcaad73e": {
          "model_module": "@jupyter-widgets/controls",
          "model_name": "DescriptionStyleModel",
          "model_module_version": "1.5.0",
          "state": {
            "_model_module": "@jupyter-widgets/controls",
            "_model_module_version": "1.5.0",
            "_model_name": "DescriptionStyleModel",
            "_view_count": null,
            "_view_module": "@jupyter-widgets/base",
            "_view_module_version": "1.2.0",
            "_view_name": "StyleView",
            "description_width": ""
          }
        }
      }
    }
  },
  "cells": [
    {
      "cell_type": "markdown",
      "metadata": {
        "id": "view-in-github",
        "colab_type": "text"
      },
      "source": [
        "<a href=\"https://colab.research.google.com/github/spyysalo/dl-binf-summer-school-2023/blob/main/ner_finetuning.ipynb\" target=\"_parent\"><img src=\"https://colab.research.google.com/assets/colab-badge.svg\" alt=\"Open In Colab\"/></a>"
      ]
    },
    {
      "cell_type": "markdown",
      "source": [
        "## Fine-tuning a model for NER\n",
        "\n",
        "Let's train a transformer model on a Named Entity Recognition (NER) dataset."
      ],
      "metadata": {
        "id": "6z3NuDfrprZA"
      }
    },
    {
      "cell_type": "markdown",
      "source": [
        "---\n",
        "\n",
        "## Setup"
      ],
      "metadata": {
        "id": "adKOlw8frrlz"
      }
    },
    {
      "cell_type": "markdown",
      "source": [
        "Install the required Python packages:"
      ],
      "metadata": {
        "id": "Ya7aNGYeqcql"
      }
    },
    {
      "cell_type": "code",
      "execution_count": 1,
      "metadata": {
        "id": "7t5cMszypelm",
        "colab": {
          "base_uri": "https://localhost:8080/"
        },
        "outputId": "b6fa7ca6-48e5-4b08-c642-80dda564dd5d"
      },
      "outputs": [
        {
          "output_type": "stream",
          "name": "stdout",
          "text": [
            "\u001b[2K     \u001b[90m━━━━━━━━━━━━━━━━━━━━━━━━━━━━━━━━━━━━━━━━\u001b[0m \u001b[32m7.4/7.4 MB\u001b[0m \u001b[31m14.4 MB/s\u001b[0m eta \u001b[36m0:00:00\u001b[0m\n",
            "\u001b[2K     \u001b[90m━━━━━━━━━━━━━━━━━━━━━━━━━━━━━━━━━━━━━━\u001b[0m \u001b[32m519.1/519.1 kB\u001b[0m \u001b[31m30.6 MB/s\u001b[0m eta \u001b[36m0:00:00\u001b[0m\n",
            "\u001b[2K     \u001b[90m━━━━━━━━━━━━━━━━━━━━━━━━━━━━━━━━━━━━━━━━\u001b[0m \u001b[32m81.4/81.4 kB\u001b[0m \u001b[31m7.4 MB/s\u001b[0m eta \u001b[36m0:00:00\u001b[0m\n",
            "\u001b[2K     \u001b[90m━━━━━━━━━━━━━━━━━━━━━━━━━━━━━━━━━━━━━━━━\u001b[0m \u001b[32m43.6/43.6 kB\u001b[0m \u001b[31m3.3 MB/s\u001b[0m eta \u001b[36m0:00:00\u001b[0m\n",
            "\u001b[?25h  Preparing metadata (setup.py) ... \u001b[?25l\u001b[?25hdone\n",
            "\u001b[2K     \u001b[90m━━━━━━━━━━━━━━━━━━━━━━━━━━━━━━━━━━━━━━\u001b[0m \u001b[32m244.2/244.2 kB\u001b[0m \u001b[31m14.0 MB/s\u001b[0m eta \u001b[36m0:00:00\u001b[0m\n",
            "\u001b[2K     \u001b[90m━━━━━━━━━━━━━━━━━━━━━━━━━━━━━━━━━━━━━━\u001b[0m \u001b[32m268.8/268.8 kB\u001b[0m \u001b[31m13.5 MB/s\u001b[0m eta \u001b[36m0:00:00\u001b[0m\n",
            "\u001b[2K     \u001b[90m━━━━━━━━━━━━━━━━━━━━━━━━━━━━━━━━━━━━━━━━\u001b[0m \u001b[32m7.8/7.8 MB\u001b[0m \u001b[31m28.1 MB/s\u001b[0m eta \u001b[36m0:00:00\u001b[0m\n",
            "\u001b[2K     \u001b[90m━━━━━━━━━━━━━━━━━━━━━━━━━━━━━━━━━━━━━━━━\u001b[0m \u001b[32m1.3/1.3 MB\u001b[0m \u001b[31m25.3 MB/s\u001b[0m eta \u001b[36m0:00:00\u001b[0m\n",
            "\u001b[2K     \u001b[90m━━━━━━━━━━━━━━━━━━━━━━━━━━━━━━━━━━━━━━━\u001b[0m \u001b[32m115.3/115.3 kB\u001b[0m \u001b[31m6.0 MB/s\u001b[0m eta \u001b[36m0:00:00\u001b[0m\n",
            "\u001b[2K     \u001b[90m━━━━━━━━━━━━━━━━━━━━━━━━━━━━━━━━━━━━━━━\u001b[0m \u001b[32m194.1/194.1 kB\u001b[0m \u001b[31m4.3 MB/s\u001b[0m eta \u001b[36m0:00:00\u001b[0m\n",
            "\u001b[2K     \u001b[90m━━━━━━━━━━━━━━━━━━━━━━━━━━━━━━━━━━━━━━━\u001b[0m \u001b[32m134.8/134.8 kB\u001b[0m \u001b[31m8.5 MB/s\u001b[0m eta \u001b[36m0:00:00\u001b[0m\n",
            "\u001b[?25h  Building wheel for seqeval (setup.py) ... \u001b[?25l\u001b[?25hdone\n"
          ]
        }
      ],
      "source": [
        "!pip install --quiet transformers datasets evaluate seqeval accelerate"
      ]
    },
    {
      "cell_type": "markdown",
      "source": [
        "Import the libraries we'll be using here."
      ],
      "metadata": {
        "id": "UhlAurZOvpWW"
      }
    },
    {
      "cell_type": "code",
      "source": [
        "import datasets\n",
        "import transformers\n",
        "import evaluate\n",
        "\n",
        "from pprint import pprint"
      ],
      "metadata": {
        "id": "h19T7mGuvt8-"
      },
      "execution_count": 2,
      "outputs": []
    },
    {
      "cell_type": "markdown",
      "source": [
        "Make things a bit more quiet. (This only affects what shows on screen when running. If you're debugging, you probably want to comment these out.)"
      ],
      "metadata": {
        "id": "LySPAWdSqjA1"
      }
    },
    {
      "cell_type": "code",
      "source": [
        "transformers.utils.logging.set_verbosity_error()\n",
        "datasets.logging.set_verbosity_error()\n",
        "datasets.disable_progress_bar()"
      ],
      "metadata": {
        "id": "uo-wMrnKqpIW"
      },
      "execution_count": 3,
      "outputs": []
    },
    {
      "cell_type": "markdown",
      "source": [
        "---\n",
        "\n",
        "## Load dataset\n",
        "\n",
        "Load a dataset for training using `datasets`."
      ],
      "metadata": {
        "id": "kUKGKvnHqKt7"
      }
    },
    {
      "cell_type": "code",
      "source": [
        "DATASET = 'conll2003'\n",
        "\n",
        "builder = datasets.load_dataset_builder(DATASET)\n",
        "dataset = datasets.load_dataset(DATASET)"
      ],
      "metadata": {
        "id": "3lZDBHc7ppI6"
      },
      "execution_count": 4,
      "outputs": []
    },
    {
      "cell_type": "markdown",
      "source": [
        "Let's have a look at the description and dataset."
      ],
      "metadata": {
        "id": "fzvOrvMUrQW4"
      }
    },
    {
      "cell_type": "code",
      "source": [
        "print(builder.info.description)"
      ],
      "metadata": {
        "id": "7PUGnArpq0I4",
        "colab": {
          "base_uri": "https://localhost:8080/"
        },
        "outputId": "37785be5-cf6b-400e-df5d-7b25bb327d46"
      },
      "execution_count": 5,
      "outputs": [
        {
          "output_type": "stream",
          "name": "stdout",
          "text": [
            "The shared task of CoNLL-2003 concerns language-independent named entity recognition. We will concentrate on\n",
            "four types of named entities: persons, locations, organizations and names of miscellaneous entities that do\n",
            "not belong to the previous three groups.\n",
            "\n",
            "The CoNLL-2003 shared task data files contain four columns separated by a single space. Each word has been put on\n",
            "a separate line and there is an empty line after each sentence. The first item on each line is a word, the second\n",
            "a part-of-speech (POS) tag, the third a syntactic chunk tag and the fourth the named entity tag. The chunk tags\n",
            "and the named entity tags have the format I-TYPE which means that the word is inside a phrase of type TYPE. Only\n",
            "if two phrases of the same type immediately follow each other, the first word of the second phrase will have tag\n",
            "B-TYPE to show that it starts a new phrase. A word with tag O is not part of a phrase. Note the dataset uses IOB2\n",
            "tagging scheme, whereas the original dataset uses IOB1.\n",
            "\n",
            "For more details see https://www.clips.uantwerpen.be/conll2003/ner/ and https://www.aclweb.org/anthology/W03-0419\n",
            "\n"
          ]
        }
      ]
    },
    {
      "cell_type": "code",
      "source": [
        "print(dataset)"
      ],
      "metadata": {
        "id": "RY-ER5vErVEs",
        "colab": {
          "base_uri": "https://localhost:8080/"
        },
        "outputId": "02dd2f33-993d-41d8-9629-cb3c3f0cd063"
      },
      "execution_count": 6,
      "outputs": [
        {
          "output_type": "stream",
          "name": "stdout",
          "text": [
            "DatasetDict({\n",
            "    train: Dataset({\n",
            "        features: ['id', 'tokens', 'pos_tags', 'chunk_tags', 'ner_tags'],\n",
            "        num_rows: 14041\n",
            "    })\n",
            "    validation: Dataset({\n",
            "        features: ['id', 'tokens', 'pos_tags', 'chunk_tags', 'ner_tags'],\n",
            "        num_rows: 3250\n",
            "    })\n",
            "    test: Dataset({\n",
            "        features: ['id', 'tokens', 'pos_tags', 'chunk_tags', 'ner_tags'],\n",
            "        num_rows: 3453\n",
            "    })\n",
            "})\n"
          ]
        }
      ]
    },
    {
      "cell_type": "markdown",
      "source": [
        "We have the conventional split into `train`, `validation`, and `test`.\n",
        "\n",
        "We're here only interested in the `tokens` and `ner_tags`. (In particular, the `ner_tags` and `chunk_tags` are included to support methods based on manually engineered features, and as such not highly relevant to the deep learning approach we're pursuing here.)\n",
        "\n",
        "Let's have a look at one example."
      ],
      "metadata": {
        "id": "wK0I81MzWfW3"
      }
    },
    {
      "cell_type": "code",
      "source": [
        "print(dataset['train'][0]['tokens'])\n",
        "print(dataset['train'][0]['ner_tags'])"
      ],
      "metadata": {
        "id": "xg7YVgnCXglr",
        "colab": {
          "base_uri": "https://localhost:8080/"
        },
        "outputId": "8fd4ad5d-b5b6-43af-f58a-fea4880cb4f1"
      },
      "execution_count": 7,
      "outputs": [
        {
          "output_type": "stream",
          "name": "stdout",
          "text": [
            "['EU', 'rejects', 'German', 'call', 'to', 'boycott', 'British', 'lamb', '.']\n",
            "[3, 0, 7, 0, 0, 0, 7, 0, 0]\n"
          ]
        }
      ]
    },
    {
      "cell_type": "markdown",
      "source": [
        "Take note of the number of different labels and create mappings from label IDs to label strings and vice versa; we'll need these later."
      ],
      "metadata": {
        "id": "6DlQnP8N7EyJ"
      }
    },
    {
      "cell_type": "code",
      "source": [
        "label_names = dataset['train'].features['ner_tags'].feature.names\n",
        "print('Labels:', label_names)\n",
        "\n",
        "num_labels = len(label_names)\n",
        "id2label = { k: v for k, v in enumerate(label_names) }\n",
        "label2id = { v: k for k, v in enumerate(label_names) }\n",
        "\n",
        "print('Number of labels:', num_labels)\n",
        "print('id2label mapping:', id2label)\n",
        "print('labelid2 mapping:', label2id)"
      ],
      "metadata": {
        "id": "JHGjHsNf7I4E",
        "colab": {
          "base_uri": "https://localhost:8080/"
        },
        "outputId": "437465b7-127d-4fea-f1f6-6e47d4d7247b"
      },
      "execution_count": 8,
      "outputs": [
        {
          "output_type": "stream",
          "name": "stdout",
          "text": [
            "Labels: ['O', 'B-PER', 'I-PER', 'B-ORG', 'I-ORG', 'B-LOC', 'I-LOC', 'B-MISC', 'I-MISC']\n",
            "Number of labels: 9\n",
            "id2label mapping: {0: 'O', 1: 'B-PER', 2: 'I-PER', 3: 'B-ORG', 4: 'I-ORG', 5: 'B-LOC', 6: 'I-LOC', 7: 'B-MISC', 8: 'I-MISC'}\n",
            "labelid2 mapping: {'O': 0, 'B-PER': 1, 'I-PER': 2, 'B-ORG': 3, 'I-ORG': 4, 'B-LOC': 5, 'I-LOC': 6, 'B-MISC': 7, 'I-MISC': 8}\n"
          ]
        }
      ]
    },
    {
      "cell_type": "markdown",
      "source": [
        "Let's see that example again, applying the label mapping:"
      ],
      "metadata": {
        "id": "fvxCFhkAYMXQ"
      }
    },
    {
      "cell_type": "code",
      "source": [
        "for token, tag_id in zip(dataset['train'][0]['tokens'], dataset['train'][0]['ner_tags']):\n",
        "    print(f'{token}\\t{id2label[tag_id]}')"
      ],
      "metadata": {
        "id": "GPqVWzNyYSFZ",
        "colab": {
          "base_uri": "https://localhost:8080/"
        },
        "outputId": "a710475f-683c-4efe-a99c-2450f400544c"
      },
      "execution_count": 9,
      "outputs": [
        {
          "output_type": "stream",
          "name": "stdout",
          "text": [
            "EU\tB-ORG\n",
            "rejects\tO\n",
            "German\tB-MISC\n",
            "call\tO\n",
            "to\tO\n",
            "boycott\tO\n",
            "British\tB-MISC\n",
            "lamb\tO\n",
            ".\tO\n"
          ]
        }
      ]
    },
    {
      "cell_type": "markdown",
      "source": [
        "---\n",
        "\n",
        "## Tokenize and vectorize dataset\n",
        "\n",
        "We'll first load the tokenizer that corresponds to the model that we want to use. `AutoTokenizer` is a convenience class that will return the appropriate tokenizer for the model it's given as an argument:"
      ],
      "metadata": {
        "id": "d2yaMXe7unE0"
      }
    },
    {
      "cell_type": "code",
      "source": [
        "MODEL = 'bert-base-cased'\n",
        "\n",
        "tokenizer = transformers.AutoTokenizer.from_pretrained(MODEL)"
      ],
      "metadata": {
        "id": "IG2DtYoRvGWa",
        "colab": {
          "base_uri": "https://localhost:8080/",
          "height": 145,
          "referenced_widgets": [
            "95177a2a0c7d4280a727414dd49047aa",
            "3d733f0ccd4e484d8bc19734eca887d6",
            "1ce263f55b304608bcd099838cc0ed90",
            "ded03fe0596a487cae1a025a4e1df785",
            "dcf172731af64cba8f016da267e14b5f",
            "9768dc68c0c94eb09cc396c6ca45375e",
            "a7aeca405f074b57a0bcdbb259bb71b2",
            "febd45fb0f52448fb3e89a5543edbe47",
            "7fd0612badfc49acb4ad79974c8d3a89",
            "c37236425f8e4981bebffef98e16ae1b",
            "99848362b09146cdad7f2be525741a4e",
            "cdc9ce9885b64dafba534003344a185b",
            "16112cf678914567a191e1517f7d13f9",
            "aba6b11ad8744b199c784b415f79ae6b",
            "349beebfe1544c6b8f24ff1e4ca7fa6a",
            "029800ac28634d1ab7b48dfd442b2f7a",
            "cde157bcfca54c7397ebfc91554d8b0d",
            "d0fb820fcadc4eb1a5694019d579e3ab",
            "020c1264bf0f45d789f06a80f853b224",
            "ae2283a623f54b1dbc1e2bab03b585ea",
            "119aed3039d74331a1a565d6bcba4c46",
            "a4411eff1bf349fb897d7bba6cde9ff2",
            "57c280ff53e74ea78d0b6ee3c2698271",
            "b656e71016b94761992ae444696edfba",
            "3fb28f52586d4d179bc98820ce237415",
            "5ec7095df36e45ab971626021b0975d1",
            "2eb6dea0458b4283943ebfd966ce83b7",
            "3a7cb9bd2b3843b38aeccea2d94e3609",
            "9eb6e2215b974bababf34b0ff5f3d4ca",
            "666b858f16a74348b8054cbbab7efa57",
            "0d14ae9a0d7b4b48aa33400c73c211e8",
            "a2b8f7e5ea0343a795f5ebe64b170539",
            "d7a7d99ddeb84b9687a22f45b9309f82",
            "f4cc4522af924e908cc6410526178c7a",
            "18fbc99154814aa4a4597b71925a7266",
            "ad07b6ed652b4262b56c6911e0ed5074",
            "9d8b124d80fb44d88fd92cf84aafdbff",
            "47c0cf37f46f4cada810e79c2955fcb0",
            "dcaecdc3b69c415cbaea36a8e79ca1eb",
            "1e8921f16e8743a2a79fdd6064eb1f78",
            "ad9ead77a8b04b15994b2485be44efd3",
            "eee682a209f545c1839986f0b01ba190",
            "bc085d33f07c493896da27eb67a4f071",
            "2a6824a0cc114bcd905f05448862d458"
          ]
        },
        "outputId": "de547fba-b6e8-45df-c423-49bca52e8484"
      },
      "execution_count": 10,
      "outputs": [
        {
          "output_type": "display_data",
          "data": {
            "text/plain": [
              "Downloading (…)okenizer_config.json:   0%|          | 0.00/29.0 [00:00<?, ?B/s]"
            ],
            "application/vnd.jupyter.widget-view+json": {
              "version_major": 2,
              "version_minor": 0,
              "model_id": "95177a2a0c7d4280a727414dd49047aa"
            }
          },
          "metadata": {}
        },
        {
          "output_type": "display_data",
          "data": {
            "text/plain": [
              "Downloading (…)lve/main/config.json:   0%|          | 0.00/570 [00:00<?, ?B/s]"
            ],
            "application/vnd.jupyter.widget-view+json": {
              "version_major": 2,
              "version_minor": 0,
              "model_id": "cdc9ce9885b64dafba534003344a185b"
            }
          },
          "metadata": {}
        },
        {
          "output_type": "display_data",
          "data": {
            "text/plain": [
              "Downloading (…)solve/main/vocab.txt:   0%|          | 0.00/213k [00:00<?, ?B/s]"
            ],
            "application/vnd.jupyter.widget-view+json": {
              "version_major": 2,
              "version_minor": 0,
              "model_id": "57c280ff53e74ea78d0b6ee3c2698271"
            }
          },
          "metadata": {}
        },
        {
          "output_type": "display_data",
          "data": {
            "text/plain": [
              "Downloading (…)/main/tokenizer.json:   0%|          | 0.00/436k [00:00<?, ?B/s]"
            ],
            "application/vnd.jupyter.widget-view+json": {
              "version_major": 2,
              "version_minor": 0,
              "model_id": "f4cc4522af924e908cc6410526178c7a"
            }
          },
          "metadata": {}
        }
      ]
    },
    {
      "cell_type": "markdown",
      "source": [
        "The tokenizer will, most importantly, produce `input_ids`, which identify the tokens of the text.\n",
        "\n",
        "The BERT tokenizer also produces an `attention_mask`, which can be used to make the model ignore some tokens, and `token_type_ids`, which can differentiate parts of the input e.g. when it consists of two separate texts."
      ],
      "metadata": {
        "id": "yI3Ve7f3vfap"
      }
    },
    {
      "cell_type": "code",
      "source": [
        "pprint(tokenizer('this is an example sentence'))"
      ],
      "metadata": {
        "id": "b7sIEg4ivgoy",
        "colab": {
          "base_uri": "https://localhost:8080/"
        },
        "outputId": "13095b76-c71d-4e3e-905e-19eccc834891"
      },
      "execution_count": 11,
      "outputs": [
        {
          "output_type": "stream",
          "name": "stdout",
          "text": [
            "{'attention_mask': [1, 1, 1, 1, 1, 1, 1],\n",
            " 'input_ids': [101, 1142, 1110, 1126, 1859, 5650, 102],\n",
            " 'token_type_ids': [0, 0, 0, 0, 0, 0, 0]}\n"
          ]
        }
      ]
    },
    {
      "cell_type": "markdown",
      "source": [
        "A key point here is to note that the data already has its own definition of \"token\", and the tokenizer may split some of those into parts:"
      ],
      "metadata": {
        "id": "Cz-TQwRsbR7l"
      }
    },
    {
      "cell_type": "code",
      "source": [
        "input_ids = tokenizer('Turku is not in the vocabulary').input_ids\n",
        "\n",
        "print(input_ids)\n",
        "print()\n",
        "print(tokenizer.convert_ids_to_tokens(input_ids))"
      ],
      "metadata": {
        "id": "UlJOXt_1a3oU",
        "colab": {
          "base_uri": "https://localhost:8080/"
        },
        "outputId": "7bfba5a7-d4c2-44d6-da7f-b1adbd4d8b4e"
      },
      "execution_count": 12,
      "outputs": [
        {
          "output_type": "stream",
          "name": "stdout",
          "text": [
            "[101, 17037, 4661, 1358, 1110, 1136, 1107, 1103, 18074, 102]\n",
            "\n",
            "['[CLS]', 'Tu', '##rk', '##u', 'is', 'not', 'in', 'the', 'vocabulary', '[SEP]']\n"
          ]
        }
      ]
    },
    {
      "cell_type": "markdown",
      "source": [
        "For each sentence, our data consists of a tokenized list of strings (\"words\") rather than a single string. If we call the tokenizer with its default options, it interprets each token as a different example:"
      ],
      "metadata": {
        "id": "8pflRkNAeJD0"
      }
    },
    {
      "cell_type": "code",
      "source": [
        "print(dataset['train'][0]['tokens'])\n",
        "print()\n",
        "\n",
        "for ids in tokenizer(dataset['train'][0]['tokens']).input_ids:\n",
        "    print(tokenizer.convert_ids_to_tokens(ids))"
      ],
      "metadata": {
        "id": "KLHE2uUWeNob",
        "colab": {
          "base_uri": "https://localhost:8080/"
        },
        "outputId": "5a8d304c-0104-4e71-d89f-d266c0a1ae18"
      },
      "execution_count": 13,
      "outputs": [
        {
          "output_type": "stream",
          "name": "stdout",
          "text": [
            "['EU', 'rejects', 'German', 'call', 'to', 'boycott', 'British', 'lamb', '.']\n",
            "\n",
            "['[CLS]', 'EU', '[SEP]']\n",
            "['[CLS]', 'rejects', '[SEP]']\n",
            "['[CLS]', 'German', '[SEP]']\n",
            "['[CLS]', 'call', '[SEP]']\n",
            "['[CLS]', 'to', '[SEP]']\n",
            "['[CLS]', 'boycott', '[SEP]']\n",
            "['[CLS]', 'British', '[SEP]']\n",
            "['[CLS]', 'la', '##mb', '[SEP]']\n",
            "['[CLS]', '.', '[SEP]']\n"
          ]
        }
      ]
    },
    {
      "cell_type": "markdown",
      "source": [
        "To get the correct mapping, we provide `is_split_into_words=True` to the tokenizer."
      ],
      "metadata": {
        "id": "Qg0gitvecGDK"
      }
    },
    {
      "cell_type": "code",
      "source": [
        "tokens = 'Turku is not in the vocabulary'.split()\n",
        "tokenized = tokenizer(tokens, is_split_into_words=True)\n",
        "\n",
        "print(tokens)\n",
        "print()\n",
        "pprint(tokenizer.convert_ids_to_tokens(tokenized.input_ids))"
      ],
      "metadata": {
        "id": "cVY4p2I3cg6q",
        "colab": {
          "base_uri": "https://localhost:8080/"
        },
        "outputId": "8186f19a-afd1-4a84-8136-a5d327c0b275"
      },
      "execution_count": 14,
      "outputs": [
        {
          "output_type": "stream",
          "name": "stdout",
          "text": [
            "['Turku', 'is', 'not', 'in', 'the', 'vocabulary']\n",
            "\n",
            "['[CLS]', 'Tu', '##rk', '##u', 'is', 'not', 'in', 'the', 'vocabulary', '[SEP]']\n"
          ]
        }
      ]
    },
    {
      "cell_type": "markdown",
      "source": [
        "The tokenizer also provides us with a mapping from the tokenizer tokens to \"original\" tokens (\"words\")"
      ],
      "metadata": {
        "id": "p_YMxebffxow"
      }
    },
    {
      "cell_type": "code",
      "source": [
        "tokenized.word_ids()"
      ],
      "metadata": {
        "id": "QbdQNIcIf6qI",
        "colab": {
          "base_uri": "https://localhost:8080/"
        },
        "outputId": "b4409104-62f3-4ef6-bd21-e90c8e5d41d8"
      },
      "execution_count": 15,
      "outputs": [
        {
          "output_type": "execute_result",
          "data": {
            "text/plain": [
              "[None, 0, 0, 0, 1, 2, 3, 4, 5, None]"
            ]
          },
          "metadata": {},
          "execution_count": 15
        }
      ]
    },
    {
      "cell_type": "markdown",
      "source": [
        "With `is_split_into_words=True`, we can tokenize the input so that its tokens are compatible with the model, but the labels will be misaligned."
      ],
      "metadata": {
        "id": "yyKqaqW2xoai"
      }
    },
    {
      "cell_type": "code",
      "source": [
        "from itertools import zip_longest\n",
        "\n",
        "token_ids = tokenizer(dataset['train'][0]['tokens'], is_split_into_words=True).input_ids\n",
        "tag_ids = dataset['train'][0]['ner_tags']\n",
        "\n",
        "for token_id, tag_id in zip_longest(token_ids, tag_ids):\n",
        "    token = tokenizer.convert_ids_to_tokens(token_id)\n",
        "    tag = id2label[tag_id] if tag_id is not None else None\n",
        "    print(f'{token}\\t{tag}')"
      ],
      "metadata": {
        "id": "JKC8KstnyEkw",
        "colab": {
          "base_uri": "https://localhost:8080/"
        },
        "outputId": "5ea0ccad-d7c4-4344-df23-93941eaa3647"
      },
      "execution_count": 16,
      "outputs": [
        {
          "output_type": "stream",
          "name": "stdout",
          "text": [
            "[CLS]\tB-ORG\n",
            "EU\tO\n",
            "rejects\tB-MISC\n",
            "German\tO\n",
            "call\tO\n",
            "to\tO\n",
            "boycott\tB-MISC\n",
            "British\tO\n",
            "la\tO\n",
            "##mb\tNone\n",
            ".\tNone\n",
            "[SEP]\tNone\n"
          ]
        }
      ]
    },
    {
      "cell_type": "markdown",
      "source": [
        "To resolve this, we'll borrow a function from [a transformers tutorial](https://huggingface.co/course/chapter7/2). Here, `-100` is a \"magic value\" for a label that pytorch ignores."
      ],
      "metadata": {
        "id": "HsmDsthgzGoQ"
      }
    },
    {
      "cell_type": "code",
      "source": [
        "def align_labels_with_tokens(labels, word_ids):\n",
        "    new_labels = []\n",
        "    current_word = None\n",
        "    for word_id in word_ids:\n",
        "        if word_id != current_word:    # Start of a new word\n",
        "            current_word = word_id\n",
        "            label = -100 if word_id is None else labels[word_id]\n",
        "            new_labels.append(label)\n",
        "        elif word_id is None:          # Special token\n",
        "            new_labels.append(-100)\n",
        "        else:                          # Same word as previous token\n",
        "            label = labels[word_id]\n",
        "            if label % 2 == 1:         # If label is B-XXX we change it to I-XXX\n",
        "                label += 1\n",
        "            new_labels.append(label)\n",
        "    return new_labels"
      ],
      "metadata": {
        "id": "S_cxn0BIzS4U"
      },
      "execution_count": 17,
      "outputs": []
    },
    {
      "cell_type": "markdown",
      "source": [
        "We'll also borrow a function for jointly tokenizing the text and aliging labels:"
      ],
      "metadata": {
        "id": "R8nx5IKK0A5Q"
      }
    },
    {
      "cell_type": "code",
      "source": [
        "def tokenize_and_align_labels(inputs):\n",
        "    outputs = tokenizer(inputs['tokens'], truncation=True, is_split_into_words=True)\n",
        "    new_labels = []\n",
        "    for i, labels in enumerate(inputs['ner_tags']):\n",
        "        word_ids = outputs.word_ids(i)\n",
        "        new_labels.append(align_labels_with_tokens(labels, word_ids))\n",
        "    outputs['labels'] = new_labels\n",
        "    return outputs"
      ],
      "metadata": {
        "id": "rzQ1o5103usD"
      },
      "execution_count": 18,
      "outputs": []
    },
    {
      "cell_type": "markdown",
      "source": [
        "We'll then apply this to the whole dataset:"
      ],
      "metadata": {
        "id": "TljzveA14amt"
      }
    },
    {
      "cell_type": "code",
      "source": [
        "dataset = dataset.map(tokenize_and_align_labels, batched=True)"
      ],
      "metadata": {
        "id": "6MQVEP6y4Z-y"
      },
      "execution_count": 19,
      "outputs": []
    },
    {
      "cell_type": "markdown",
      "source": [
        "Now these should match up:"
      ],
      "metadata": {
        "id": "YU_kJtqu7It2"
      }
    },
    {
      "cell_type": "code",
      "source": [
        "token_ids = dataset['train'][0]['input_ids']\n",
        "tag_ids = dataset['train'][0]['labels']\n",
        "\n",
        "for token_id, tag_id in zip_longest(token_ids, tag_ids):\n",
        "    token = tokenizer.convert_ids_to_tokens(token_id)\n",
        "    tag = id2label[tag_id] if tag_id != -100 else None\n",
        "    print(f'{token}\\t{tag}')"
      ],
      "metadata": {
        "id": "wgRVPp6p7NjK",
        "colab": {
          "base_uri": "https://localhost:8080/"
        },
        "outputId": "fcdd80a3-8b9b-4c2b-c0dc-40791d6b8a7f"
      },
      "execution_count": 20,
      "outputs": [
        {
          "output_type": "stream",
          "name": "stdout",
          "text": [
            "[CLS]\tNone\n",
            "EU\tB-ORG\n",
            "rejects\tO\n",
            "German\tB-MISC\n",
            "call\tO\n",
            "to\tO\n",
            "boycott\tO\n",
            "British\tB-MISC\n",
            "la\tO\n",
            "##mb\tO\n",
            ".\tO\n",
            "[SEP]\tNone\n"
          ]
        }
      ]
    },
    {
      "cell_type": "markdown",
      "source": [
        "---\n",
        "\n",
        "## Instantiate model\n",
        "\n",
        "Now, we'll instantiate a pretrained model with a sequence labeling head. We'll use the `Auto` variant to get the appropriate class based on model name.\n",
        "\n",
        "**NOTE**: we need to provide the number of labels to `from_pretrained` so that the function knows the size of the output layer that is required. The `id2label` and `label2id` mappings allow the model to report its classification results in interpretable text labels."
      ],
      "metadata": {
        "id": "coct30Pmr0Ng"
      }
    },
    {
      "cell_type": "code",
      "source": [
        "model = transformers.AutoModelForTokenClassification.from_pretrained(\n",
        "    MODEL,\n",
        "    num_labels=num_labels,\n",
        "    id2label=id2label,\n",
        "    label2id=label2id\n",
        ")"
      ],
      "metadata": {
        "id": "m5D1eK0FraRU",
        "colab": {
          "base_uri": "https://localhost:8080/",
          "height": 49,
          "referenced_widgets": [
            "c4accb678d4e4d1dbe55705d3393a70c",
            "8111f88ff95746a9ba8cd5786716fa52",
            "49ac02f46c774601a434fd6dbcb2a04b",
            "1d1577ad927943438fa32aad33f619ac",
            "2e727c5f847c46cb9233c8b1b2230052",
            "45e9f7598b7b4a10a535e829120ee05c",
            "13470bc7873646daadd8d1d9ecf54950",
            "d400f2e9be8a46218f8357308ac6172a",
            "3902015280604a78905a8ba71fd8b59d",
            "adf2015a479e411c87ed33ca31ad1068",
            "252edcd4b9d64885838b5ea923a7778b"
          ]
        },
        "outputId": "b151bfce-c37c-418b-89bc-d530b8ef6cdd"
      },
      "execution_count": 21,
      "outputs": [
        {
          "output_type": "display_data",
          "data": {
            "text/plain": [
              "Downloading model.safetensors:   0%|          | 0.00/436M [00:00<?, ?B/s]"
            ],
            "application/vnd.jupyter.widget-view+json": {
              "version_major": 2,
              "version_minor": 0,
              "model_id": "c4accb678d4e4d1dbe55705d3393a70c"
            }
          },
          "metadata": {}
        }
      ]
    },
    {
      "cell_type": "markdown",
      "source": [
        "---\n",
        "\n",
        "## Training configuration\n",
        "\n",
        "To assess the progress and results of training, we'll use the standard `seqeval` library. We'll also need to introduce a function that takes model outputs and the labels from the dataset and calls the metric.\n",
        "\n",
        "Here, we'll again borrow from [the transformers tutorial](https://huggingface.co/course/chapter7/2):"
      ],
      "metadata": {
        "id": "GglUCNFm1f9q"
      }
    },
    {
      "cell_type": "code",
      "source": [
        "metrics = evaluate.load('seqeval')\n",
        "\n",
        "\n",
        "def compute_metrics(outputs_and_labels):\n",
        "    outputs, labels = outputs_and_labels\n",
        "    predictions = outputs.argmax(axis=-1)\n",
        "\n",
        "    # Remove ignored index (special tokens) and convert to labels\n",
        "    true_labels = [[id2label[i] for i in label if i != -100] for label in labels]\n",
        "    true_predictions = [\n",
        "        [id2label[p] for (p, l) in zip(prediction, label) if l != -100]\n",
        "        for prediction, label in zip(predictions, labels)\n",
        "    ]\n",
        "    all_metrics = metrics.compute(predictions=true_predictions, references=true_labels)\n",
        "    return {\n",
        "        'precision': all_metrics['overall_precision'],\n",
        "        'recall': all_metrics['overall_recall'],\n",
        "        'f1': all_metrics['overall_f1'],\n",
        "        'accuracy': all_metrics['overall_accuracy'],\n",
        "    }"
      ],
      "metadata": {
        "id": "Q1ph62MmsTxB",
        "colab": {
          "base_uri": "https://localhost:8080/",
          "height": 49,
          "referenced_widgets": [
            "14be49a27f494973b3374d7c480828f9",
            "3ec071d7b39d4385bcc8b35519d78f70",
            "0c09238f27f343eeb6587795f1f05914",
            "30a9b3affcb94afa9f7b00a86f56f041",
            "a3bb013be9c84e338b472a03df4f0a59",
            "9376c80cf086435bafaf48439e5e2366",
            "8981b871f3164576b6ed2ae942a26626",
            "b9691b903c864ed6b36ebc053a34472e",
            "44009e3bf36e4249b4d0e53a42b84f1c",
            "adb06ab9bfa24c8589a7229db5f5b82e",
            "3d2614ec8a49495c9bea8517fcaad73e"
          ]
        },
        "outputId": "c9357432-0082-4d0e-f198-0a8f492984e6"
      },
      "execution_count": 22,
      "outputs": [
        {
          "output_type": "display_data",
          "data": {
            "text/plain": [
              "Downloading builder script:   0%|          | 0.00/6.34k [00:00<?, ?B/s]"
            ],
            "application/vnd.jupyter.widget-view+json": {
              "version_major": 2,
              "version_minor": 0,
              "model_id": "14be49a27f494973b3374d7c480828f9"
            }
          },
          "metadata": {}
        }
      ]
    },
    {
      "cell_type": "markdown",
      "source": [
        "We'll also need a collator for padding the examples to the same length to process them in batches."
      ],
      "metadata": {
        "id": "1cDpsGI_-2hO"
      }
    },
    {
      "cell_type": "code",
      "source": [
        "from transformers import DataCollatorForTokenClassification\n",
        "\n",
        "data_collator = DataCollatorForTokenClassification(tokenizer=tokenizer)"
      ],
      "metadata": {
        "id": "Hp9Cwl8X-6KA"
      },
      "execution_count": 23,
      "outputs": []
    },
    {
      "cell_type": "markdown",
      "source": [
        "The `TrainingArguments` class configures many of the details of the model training. You may want to try optimizing the following hyperparameters to improve model performance:\n",
        "\n",
        "* `learning_rate`: the step size for weight updates\n",
        "* `per_device_train_batch_size`: number of examples per training batch\n",
        "* `max_steps`: the maximum number of steps to train for"
      ],
      "metadata": {
        "id": "5CMOftQi4nIR"
      }
    },
    {
      "cell_type": "code",
      "source": [
        "trainer_args = transformers.TrainingArguments(\n",
        "    output_dir='checkpoints',\n",
        "    evaluation_strategy='steps',\n",
        "    logging_strategy='steps',\n",
        "    load_best_model_at_end=True,\n",
        "    eval_steps=100,\n",
        "    logging_steps=100,\n",
        "    learning_rate=0.00002,\n",
        "    per_device_train_batch_size=16,\n",
        "    per_device_eval_batch_size=32,\n",
        "    max_steps=1500,\n",
        ")"
      ],
      "metadata": {
        "id": "T13HyLrh2oRE"
      },
      "execution_count": 24,
      "outputs": []
    },
    {
      "cell_type": "markdown",
      "source": [
        "Finally, we'll create a custom [callback](https://huggingface.co/docs/transformers/main_classes/callback) to store values logged during training so that we can more easily examine them later. (This is only needed for visualization and is not necessary to understand in detail.)"
      ],
      "metadata": {
        "id": "q-er8P2eAHHp"
      }
    },
    {
      "cell_type": "code",
      "source": [
        "from collections import defaultdict\n",
        "\n",
        "class LogSavingCallback(transformers.TrainerCallback):\n",
        "    def on_train_begin(self, *args, **kwargs):\n",
        "        self.logs = defaultdict(list)\n",
        "        self.training = True\n",
        "\n",
        "    def on_train_end(self, *args, **kwargs):\n",
        "        self.training = False\n",
        "\n",
        "    def on_log(self, args, state, control, logs, model=None, **kwargs):\n",
        "        if self.training:\n",
        "            for k, v in logs.items():\n",
        "                if k != \"epoch\" or v not in self.logs[k]:\n",
        "                    self.logs[k].append(v)\n",
        "\n",
        "training_logs = LogSavingCallback()"
      ],
      "metadata": {
        "id": "DwMxldxOAUHD"
      },
      "execution_count": 25,
      "outputs": []
    },
    {
      "cell_type": "markdown",
      "source": [
        "---\n",
        "\n",
        "## Train (fine-tune) model"
      ],
      "metadata": {
        "id": "enKZualc5hzi"
      }
    },
    {
      "cell_type": "code",
      "source": [
        "trainer = transformers.Trainer(\n",
        "    model=model,\n",
        "    args=trainer_args,\n",
        "    train_dataset=dataset['train'],\n",
        "    eval_dataset=dataset['validation'],\n",
        "    compute_metrics=compute_metrics,\n",
        "    tokenizer=tokenizer,\n",
        "    data_collator=data_collator,\n",
        "    callbacks=[training_logs],\n",
        ")"
      ],
      "metadata": {
        "id": "3rauYFl45mi9"
      },
      "execution_count": 26,
      "outputs": []
    },
    {
      "cell_type": "code",
      "source": [
        "trainer.train()"
      ],
      "metadata": {
        "id": "rTCrH63X50T_",
        "colab": {
          "base_uri": "https://localhost:8080/"
        },
        "outputId": "1dfa4aef-458e-4de1-c917-575cc671c76b"
      },
      "execution_count": 27,
      "outputs": [
        {
          "output_type": "stream",
          "name": "stderr",
          "text": [
            "/usr/local/lib/python3.10/dist-packages/transformers/optimization.py:411: FutureWarning: This implementation of AdamW is deprecated and will be removed in a future version. Use the PyTorch implementation torch.optim.AdamW instead, or set `no_deprecation_warning=True` to disable this warning\n",
            "  warnings.warn(\n"
          ]
        },
        {
          "output_type": "stream",
          "name": "stdout",
          "text": [
            "{'loss': 0.5949, 'learning_rate': 1.866666666666667e-05, 'epoch': 0.11}\n",
            "{'eval_loss': 0.2071574479341507, 'eval_precision': 0.6788617886178862, 'eval_recall': 0.730730393806799, 'eval_f1': 0.7038417895931269, 'eval_accuracy': 0.9394978512980514, 'eval_runtime': 12.1769, 'eval_samples_per_second': 266.9, 'eval_steps_per_second': 8.377, 'epoch': 0.11}\n",
            "{'loss': 0.1788, 'learning_rate': 1.7333333333333336e-05, 'epoch': 0.23}\n",
            "{'eval_loss': 0.1365261822938919, 'eval_precision': 0.8131231907365712, 'eval_recall': 0.850891955570515, 'eval_f1': 0.8315789473684211, 'eval_accuracy': 0.9624713015835639, 'eval_runtime': 13.4134, 'eval_samples_per_second': 242.294, 'eval_steps_per_second': 7.604, 'epoch': 0.23}\n",
            "{'loss': 0.1387, 'learning_rate': 1.6000000000000003e-05, 'epoch': 0.34}\n",
            "{'eval_loss': 0.09802458435297012, 'eval_precision': 0.8290490458918152, 'eval_recall': 0.8847189498485358, 'eval_f1': 0.855979809492795, 'eval_accuracy': 0.9709778065579561, 'eval_runtime': 12.7387, 'eval_samples_per_second': 255.129, 'eval_steps_per_second': 8.007, 'epoch': 0.34}\n",
            "{'loss': 0.1169, 'learning_rate': 1.4666666666666666e-05, 'epoch': 0.46}\n",
            "{'eval_loss': 0.08786282688379288, 'eval_precision': 0.86144, 'eval_recall': 0.9060922248401212, 'eval_f1': 0.8832020997375328, 'eval_accuracy': 0.9761288043798199, 'eval_runtime': 12.3322, 'eval_samples_per_second': 263.538, 'eval_steps_per_second': 8.271, 'epoch': 0.46}\n",
            "{'loss': 0.1096, 'learning_rate': 1.3333333333333333e-05, 'epoch': 0.57}\n",
            "{'eval_loss': 0.08022143691778183, 'eval_precision': 0.8777525906735751, 'eval_recall': 0.912319084483339, 'eval_f1': 0.8947020960554547, 'eval_accuracy': 0.9765850356154706, 'eval_runtime': 12.1599, 'eval_samples_per_second': 267.271, 'eval_steps_per_second': 8.388, 'epoch': 0.57}\n",
            "{'loss': 0.0831, 'learning_rate': 1.2e-05, 'epoch': 0.68}\n",
            "{'eval_loss': 0.07306571304798126, 'eval_precision': 0.882457271847791, 'eval_recall': 0.921070346684618, 'eval_f1': 0.9013504611330698, 'eval_accuracy': 0.9793077058927415, 'eval_runtime': 13.263, 'eval_samples_per_second': 245.043, 'eval_steps_per_second': 7.691, 'epoch': 0.68}\n",
            "{'loss': 0.0891, 'learning_rate': 1.0666666666666667e-05, 'epoch': 0.8}\n",
            "{'eval_loss': 0.06862873584032059, 'eval_precision': 0.883616543764027, 'eval_recall': 0.9276337933355773, 'eval_f1': 0.9050903119868637, 'eval_accuracy': 0.979808088538294, 'eval_runtime': 12.3848, 'eval_samples_per_second': 262.419, 'eval_steps_per_second': 8.236, 'epoch': 0.8}\n",
            "{'loss': 0.0692, 'learning_rate': 9.333333333333334e-06, 'epoch': 0.91}\n",
            "{'eval_loss': 0.06612338125705719, 'eval_precision': 0.8986475476617239, 'eval_recall': 0.9281386738471895, 'eval_f1': 0.9131550625051742, 'eval_accuracy': 0.9808235709660329, 'eval_runtime': 12.0699, 'eval_samples_per_second': 269.265, 'eval_steps_per_second': 8.451, 'epoch': 0.91}\n",
            "{'loss': 0.0657, 'learning_rate': 8.000000000000001e-06, 'epoch': 1.03}\n",
            "{'eval_loss': 0.06652867048978806, 'eval_precision': 0.9050032701111838, 'eval_recall': 0.9315045439246045, 'eval_f1': 0.9180626969646707, 'eval_accuracy': 0.9808824395125685, 'eval_runtime': 12.3218, 'eval_samples_per_second': 263.759, 'eval_steps_per_second': 8.278, 'epoch': 1.03}\n",
            "{'loss': 0.0527, 'learning_rate': 6.666666666666667e-06, 'epoch': 1.14}\n",
            "{'eval_loss': 0.0626535639166832, 'eval_precision': 0.9033934080207826, 'eval_recall': 0.9363850555368562, 'eval_f1': 0.9195934220312371, 'eval_accuracy': 0.9825749102254665, 'eval_runtime': 14.5924, 'eval_samples_per_second': 222.719, 'eval_steps_per_second': 6.99, 'epoch': 1.14}\n",
            "{'loss': 0.0514, 'learning_rate': 5.333333333333334e-06, 'epoch': 1.25}\n",
            "{'eval_loss': 0.0644252598285675, 'eval_precision': 0.8986070618723679, 'eval_recall': 0.9336923594749242, 'eval_f1': 0.9158137999339717, 'eval_accuracy': 0.9813828221581209, 'eval_runtime': 12.7834, 'eval_samples_per_second': 254.236, 'eval_steps_per_second': 7.979, 'epoch': 1.25}\n",
            "{'loss': 0.0506, 'learning_rate': 4.000000000000001e-06, 'epoch': 1.37}\n",
            "{'eval_loss': 0.06112663447856903, 'eval_precision': 0.9082448979591837, 'eval_recall': 0.9362167620329855, 'eval_f1': 0.9220187287643988, 'eval_accuracy': 0.9827809501383411, 'eval_runtime': 12.5766, 'eval_samples_per_second': 258.416, 'eval_steps_per_second': 8.11, 'epoch': 1.37}\n",
            "{'loss': 0.0395, 'learning_rate': 2.666666666666667e-06, 'epoch': 1.48}\n",
            "{'eval_loss': 0.059236880391836166, 'eval_precision': 0.9172141918528253, 'eval_recall': 0.9397509256142713, 'eval_f1': 0.9283458021612635, 'eval_accuracy': 0.9838553011126155, 'eval_runtime': 12.3614, 'eval_samples_per_second': 262.915, 'eval_steps_per_second': 8.251, 'epoch': 1.48}\n",
            "{'loss': 0.0439, 'learning_rate': 1.3333333333333334e-06, 'epoch': 1.59}\n",
            "{'eval_loss': 0.05791543051600456, 'eval_precision': 0.9163523044120059, 'eval_recall': 0.9402558061258836, 'eval_f1': 0.9281501785862613, 'eval_accuracy': 0.984208512391829, 'eval_runtime': 12.3449, 'eval_samples_per_second': 263.267, 'eval_steps_per_second': 8.263, 'epoch': 1.59}\n",
            "{'loss': 0.0483, 'learning_rate': 0.0, 'epoch': 1.71}\n",
            "{'eval_loss': 0.05769583210349083, 'eval_precision': 0.9171995409083457, 'eval_recall': 0.9414338606529788, 'eval_f1': 0.929158707748526, 'eval_accuracy': 0.9840907752987579, 'eval_runtime': 12.3006, 'eval_samples_per_second': 264.214, 'eval_steps_per_second': 8.292, 'epoch': 1.71}\n",
            "{'train_runtime': 464.2976, 'train_samples_per_second': 51.691, 'train_steps_per_second': 3.231, 'train_loss': 0.11548492399851482, 'epoch': 1.71}\n"
          ]
        },
        {
          "output_type": "execute_result",
          "data": {
            "text/plain": [
              "TrainOutput(global_step=1500, training_loss=0.11548492399851482, metrics={'train_runtime': 464.2976, 'train_samples_per_second': 51.691, 'train_steps_per_second': 3.231, 'train_loss': 0.11548492399851482, 'epoch': 1.71})"
            ]
          },
          "metadata": {},
          "execution_count": 27
        }
      ]
    },
    {
      "cell_type": "markdown",
      "source": [
        "---\n",
        "\n",
        "## Evaluate trained model\n",
        "\n",
        "We can use the `trainer` to evaluate the trained model using the metric we defined:"
      ],
      "metadata": {
        "id": "SY4dt3HGA-6C"
      }
    },
    {
      "cell_type": "code",
      "source": [
        "eval_results = trainer.evaluate(dataset['test'])\n",
        "\n",
        "pprint(eval_results)\n",
        "\n",
        "print('\\nF1:', eval_results['eval_f1'])"
      ],
      "metadata": {
        "id": "W3VOmny26WTI",
        "colab": {
          "base_uri": "https://localhost:8080/"
        },
        "outputId": "3dbdbda6-271d-4c3f-ae62-d3bdaac77f94"
      },
      "execution_count": 28,
      "outputs": [
        {
          "output_type": "stream",
          "name": "stdout",
          "text": [
            "{'eval_loss': 0.14459078013896942, 'eval_precision': 0.8769178315717695, 'eval_recall': 0.9107648725212465, 'eval_f1': 0.8935209310404724, 'eval_accuracy': 0.9705961141488473, 'eval_runtime': 12.6264, 'eval_samples_per_second': 273.474, 'eval_steps_per_second': 8.553, 'epoch': 1.71}\n",
            "{'epoch': 1.71,\n",
            " 'eval_accuracy': 0.9705961141488473,\n",
            " 'eval_f1': 0.8935209310404724,\n",
            " 'eval_loss': 0.14459078013896942,\n",
            " 'eval_precision': 0.8769178315717695,\n",
            " 'eval_recall': 0.9107648725212465,\n",
            " 'eval_runtime': 12.6264,\n",
            " 'eval_samples_per_second': 273.474,\n",
            " 'eval_steps_per_second': 8.553}\n",
            "\n",
            "F1: 0.8935209310404724\n"
          ]
        }
      ]
    },
    {
      "cell_type": "markdown",
      "source": [
        "As we captured performance during training using the `training_logs` callback, we can also have a look at training and evaluation loss and evaluation $F_1$ progression. (The code here is only for visualization and you do not need to understand it, but you should aim to be able to interpret the plots.)"
      ],
      "metadata": {
        "id": "1jxFdf0uBXYJ"
      }
    },
    {
      "cell_type": "code",
      "source": [
        "%matplotlib inline\n",
        "import matplotlib.pyplot as plt\n",
        "\n",
        "def plot(logs, keys, labels):\n",
        "    values = sum([logs[k] for k in keys], [])\n",
        "    plt.ylim(max(min(values)-0.1, 0.0), min(max(values)+0.1, 1.0))\n",
        "    for key, label in zip(keys, labels):\n",
        "        plt.plot(logs['epoch'], logs[key], label=label)\n",
        "    plt.legend()\n",
        "    plt.show()\n",
        "\n",
        "plot(training_logs.logs, ['loss', 'eval_loss'], ['Training loss', 'Evaluation loss'])"
      ],
      "metadata": {
        "id": "DWLWZBjABEc4",
        "colab": {
          "base_uri": "https://localhost:8080/",
          "height": 430
        },
        "outputId": "572e7e6d-0616-446d-b57c-bc599432aa67"
      },
      "execution_count": 29,
      "outputs": [
        {
          "output_type": "display_data",
          "data": {
            "text/plain": [
              "<Figure size 640x480 with 1 Axes>"
            ],
            "image/png": "[encoded data removed]"
          },
          "metadata": {}
        }
      ]
    },
    {
      "cell_type": "code",
      "source": [
        "plot(training_logs.logs, ['eval_f1'], ['Evaluation F1'])"
      ],
      "metadata": {
        "id": "8M1IYKS7Bp6k",
        "colab": {
          "base_uri": "https://localhost:8080/",
          "height": 435
        },
        "outputId": "00259322-874c-4437-bdf3-b8fbd57d224a"
      },
      "execution_count": 30,
      "outputs": [
        {
          "output_type": "display_data",
          "data": {
            "text/plain": [
              "<Figure size 640x480 with 1 Axes>"
            ],
            "image/png": "[encoded data removed]"
          },
          "metadata": {}
        }
      ]
    },
    {
      "cell_type": "markdown",
      "source": [
        "---\n",
        "\n",
        "## Create pipeline\n",
        "\n"
      ],
      "metadata": {
        "id": "PWTkJ97rDq7d"
      }
    },
    {
      "cell_type": "markdown",
      "source": [
        "We can wrap our fine-tuned model in a pipeline for convenience. (We need to specify `device` here as the model is on GPU.)"
      ],
      "metadata": {
        "id": "BVlTovCFEgLm"
      }
    },
    {
      "cell_type": "code",
      "source": [
        "pipe = transformers.pipeline(\n",
        "    'token-classification',\n",
        "    model=model,\n",
        "    tokenizer=tokenizer,\n",
        "    aggregation_strategy='simple',\n",
        "    device=0\n",
        ")"
      ],
      "metadata": {
        "id": "pbw6bQL9Dto0"
      },
      "execution_count": 31,
      "outputs": []
    },
    {
      "cell_type": "markdown",
      "source": [
        "We can then use the pipeline simply as follows:"
      ],
      "metadata": {
        "id": "kxSAAtmAEuAo"
      }
    },
    {
      "cell_type": "code",
      "source": [
        "pipe('Finnish cities include Turku and Tampere.')"
      ],
      "metadata": {
        "id": "nTOhvnJ6EIww",
        "colab": {
          "base_uri": "https://localhost:8080/"
        },
        "outputId": "b917d961-ae89-4d9f-a903-b0b2c9725af3"
      },
      "execution_count": 32,
      "outputs": [
        {
          "output_type": "execute_result",
          "data": {
            "text/plain": [
              "[{'entity_group': 'MISC',\n",
              "  'score': 0.99381906,\n",
              "  'word': 'Finnish',\n",
              "  'start': 0,\n",
              "  'end': 7},\n",
              " {'entity_group': 'LOC',\n",
              "  'score': 0.99548274,\n",
              "  'word': 'Turku',\n",
              "  'start': 23,\n",
              "  'end': 28},\n",
              " {'entity_group': 'LOC',\n",
              "  'score': 0.9931206,\n",
              "  'word': 'Tampere',\n",
              "  'start': 33,\n",
              "  'end': 40}]"
            ]
          },
          "metadata": {},
          "execution_count": 32
        }
      ]
    },
    {
      "cell_type": "markdown",
      "source": [
        "Or, for convenience"
      ],
      "metadata": {
        "id": "Tl1a9_JHIbGC"
      }
    },
    {
      "cell_type": "code",
      "source": [
        "def tag(text):\n",
        "    output = pipe(text)\n",
        "    print('input:', text)\n",
        "    print('output:', [(o['word'], o['entity_group']) for o in output])\n",
        "\n",
        "tag('Finnish cities include Turku and Tampere.')"
      ],
      "metadata": {
        "id": "XsjFMSRwIPye",
        "colab": {
          "base_uri": "https://localhost:8080/"
        },
        "outputId": "59ecc917-14d7-4cf8-db88-4ae25246ba6a"
      },
      "execution_count": 33,
      "outputs": [
        {
          "output_type": "stream",
          "name": "stdout",
          "text": [
            "input: Finnish cities include Turku and Tampere.\n",
            "output: [('Finnish', 'MISC'), ('Turku', 'LOC'), ('Tampere', 'LOC')]\n"
          ]
        }
      ]
    },
    {
      "cell_type": "code",
      "source": [
        "tag('Paavo Nurmi was born in Turku in 1897.')"
      ],
      "metadata": {
        "id": "eI0QzsQ7I7_w",
        "colab": {
          "base_uri": "https://localhost:8080/"
        },
        "outputId": "42f6461a-95eb-4db0-a935-a76a63c37390"
      },
      "execution_count": 34,
      "outputs": [
        {
          "output_type": "stream",
          "name": "stdout",
          "text": [
            "input: Paavo Nurmi was born in Turku in 1897.\n",
            "output: [('Paavo Nurmi', 'PER'), ('Turku', 'LOC')]\n"
          ]
        }
      ]
    },
    {
      "cell_type": "code",
      "source": [
        "tag('Nokia is a company founded near the town of Nokia.')"
      ],
      "metadata": {
        "id": "cqJP87L7JcbT",
        "colab": {
          "base_uri": "https://localhost:8080/"
        },
        "outputId": "72c74574-bc1b-4a7e-98f7-b436d70dd650"
      },
      "execution_count": 35,
      "outputs": [
        {
          "output_type": "stream",
          "name": "stdout",
          "text": [
            "input: Nokia is a company founded near the town of Nokia.\n",
            "output: [('Nokia', 'ORG'), ('Nokia', 'LOC')]\n"
          ]
        }
      ]
    }
  ]
}